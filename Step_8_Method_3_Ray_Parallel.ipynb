{
  "cells": [
    {
      "cell_type": "markdown",
      "metadata": {
        "id": "view-in-github",
        "colab_type": "text"
      },
      "source": [
        "<a href=\"https://colab.research.google.com/github/BD157/MLE-Capstone-BD/blob/main/Step_8_Method_3_Ray_Parallel.ipynb\" target=\"_parent\"><img src=\"https://colab.research.google.com/assets/colab-badge.svg\" alt=\"Open In Colab\"/></a>"
      ]
    },
    {
      "cell_type": "code",
      "source": [
        "# Reinstall correct versions\n",
        "!pip uninstall -y numpy pandas scipy gensim umap-learn thinc spacy\n",
        "!pip install -q numpy==1.26.4 pandas==2.2.2 scipy==1.11.4\n",
        "!pip install -q gensim==4.3.2 umap-learn==0.5.5"
      ],
      "metadata": {
        "colab": {
          "base_uri": "https://localhost:8080/"
        },
        "id": "IsToMf-_icXY",
        "outputId": "4f66f9e5-9924-4083-c686-80c77305704d"
      },
      "id": "IsToMf-_icXY",
      "execution_count": null,
      "outputs": [
        {
          "output_type": "stream",
          "name": "stdout",
          "text": [
            "Found existing installation: numpy 1.26.4\n",
            "Uninstalling numpy-1.26.4:\n",
            "  Successfully uninstalled numpy-1.26.4\n",
            "Found existing installation: pandas 2.2.2\n",
            "Uninstalling pandas-2.2.2:\n",
            "  Successfully uninstalled pandas-2.2.2\n",
            "Found existing installation: scipy 1.11.4\n",
            "Uninstalling scipy-1.11.4:\n",
            "  Successfully uninstalled scipy-1.11.4\n",
            "Found existing installation: gensim 4.3.2\n",
            "Uninstalling gensim-4.3.2:\n",
            "  Successfully uninstalled gensim-4.3.2\n",
            "Found existing installation: umap-learn 0.5.5\n",
            "Uninstalling umap-learn-0.5.5:\n",
            "  Successfully uninstalled umap-learn-0.5.5\n",
            "\u001b[33mWARNING: Skipping thinc as it is not installed.\u001b[0m\u001b[33m\n",
            "\u001b[0m\u001b[33mWARNING: Skipping spacy as it is not installed.\u001b[0m\u001b[33m\n",
            "\u001b[0m\u001b[31mERROR: pip's dependency resolver does not currently take into account all the packages that are installed. This behaviour is the source of the following dependency conflicts.\n",
            "fastai 2.7.19 requires spacy<4, which is not installed.\n",
            "tsfresh 0.21.0 requires scipy>=1.14.0; python_version >= \"3.10\", but you have scipy 1.11.4 which is incompatible.\u001b[0m\u001b[31m\n",
            "\u001b[0m"
          ]
        }
      ]
    },
    {
      "cell_type": "code",
      "source": [
        "import gensim\n",
        "import umap\n",
        "import pandas as pd\n",
        "import numpy as np"
      ],
      "metadata": {
        "id": "CdIT73kFiezo"
      },
      "id": "CdIT73kFiezo",
      "execution_count": null,
      "outputs": []
    },
    {
      "cell_type": "code",
      "source": [
        "from google.colab import drive\n",
        "# Mound Google Drive\n",
        "drive.mount('/content/drive')"
      ],
      "metadata": {
        "colab": {
          "base_uri": "https://localhost:8080/"
        },
        "id": "rWOLb1A2ihXT",
        "outputId": "844d23b2-5cbe-462c-854c-efb54d2bfabf"
      },
      "id": "rWOLb1A2ihXT",
      "execution_count": null,
      "outputs": [
        {
          "output_type": "stream",
          "name": "stdout",
          "text": [
            "Drive already mounted at /content/drive; to attempt to forcibly remount, call drive.mount(\"/content/drive\", force_remount=True).\n"
          ]
        }
      ]
    },
    {
      "cell_type": "code",
      "source": [
        "import os\n",
        "# Path where files are stored on the Google Drive\n",
        "drive_folder = \"/content/drive/My Drive/Sequence Data/\"\n",
        "\n",
        "# List files in the folder and verify file names\n",
        "for file in os.listdir(drive_folder):\n",
        "    print(file)"
      ],
      "metadata": {
        "colab": {
          "base_uri": "https://localhost:8080/"
        },
        "id": "3bZJJikKike4",
        "outputId": "62ecd066-180a-4c1b-aed5-a8e3949e7a28"
      },
      "id": "3bZJJikKike4",
      "execution_count": null,
      "outputs": [
        {
          "output_type": "stream",
          "name": "stdout",
          "text": [
            "['Second3m_2022_sequences.acc', 'Second3m_2022_sequences.csv', 'Second3m_2022_sequences.fasta', 'merged_df.pkl', 'merged_df_large.csv', 'merged_df_sampled.csv', 'merged_df_100.csv', 'merged_df_1000.csv', 'merged_df_10000.csv', 'FastText_sars_cov2.model2.wv.vectors_ngrams.npy', 'FastText_sars_cov2.model2', 'embeddings_10k.npy', 'embeddings_PP_10k.npy']\n"
          ]
        }
      ]
    },
    {
      "cell_type": "code",
      "source": [
        "# Read the CSV file\n",
        "merged_df_scale = pd.read_csv('/content/drive/MyDrive/Sequence Data/merged_df_10000_withpango.csv')"
      ],
      "metadata": {
        "id": "BzkJdL_HikPO"
      },
      "id": "BzkJdL_HikPO",
      "execution_count": null,
      "outputs": []
    },
    {
      "cell_type": "code",
      "source": [
        "print(\"\\nColumns in merged DataFrame:\", merged_df_scale.columns)\n",
        "print(\"\\nShape of merged DataFrame:\", merged_df_scale.shape)\n",
        "print(\"\\nMissing values per column:\\n\", merged_df_scale.isnull().sum())"
      ],
      "metadata": {
        "colab": {
          "base_uri": "https://localhost:8080/"
        },
        "id": "jFKgHMdRirKi",
        "outputId": "3c80c1e1-11a8-41c8-ef9c-a474c688eb01"
      },
      "id": "jFKgHMdRirKi",
      "execution_count": null,
      "outputs": [
        {
          "output_type": "stream",
          "name": "stdout",
          "text": [
            "\n",
            "Columns in merged DataFrame: Index(['accession_id', 'organism_name', 'assembly', 'sra_accession',\n",
            "       'organization', 'org_location', 'release_date', 'pangolin',\n",
            "       'pangoversions', 'surveillance_sampling', 'isolate', 'species', 'genus',\n",
            "       'family', 'molecule_type', 'length', 'nuc_completeness', 'genotype',\n",
            "       'segment', 'geo_location', 'country', 'usa', 'host',\n",
            "       'tissue_specimen_source', 'collection_date', 'genbank_title',\n",
            "       'fasta_sequence', 'sequence_length', 'year', 'Year', 'Month'],\n",
            "      dtype='object')\n",
            "\n",
            "Shape of merged DataFrame: (10000, 31)\n",
            "\n",
            "Missing values per column:\n",
            " accession_id                  0\n",
            "organism_name                 0\n",
            "assembly                  10000\n",
            "sra_accession              3482\n",
            "organization                  0\n",
            "org_location                413\n",
            "release_date                  0\n",
            "pangolin                      0\n",
            "pangoversions                 0\n",
            "surveillance_sampling      3598\n",
            "isolate                    2499\n",
            "species                       0\n",
            "genus                         0\n",
            "family                        0\n",
            "molecule_type                 0\n",
            "length                        0\n",
            "nuc_completeness              0\n",
            "genotype                  10000\n",
            "segment                   10000\n",
            "geo_location                  0\n",
            "country                       0\n",
            "usa                        3709\n",
            "host                          0\n",
            "tissue_specimen_source     4032\n",
            "collection_date             228\n",
            "genbank_title                 0\n",
            "fasta_sequence                0\n",
            "sequence_length               0\n",
            "year                        228\n",
            "Year                        228\n",
            "Month                       228\n",
            "dtype: int64\n"
          ]
        }
      ]
    },
    {
      "cell_type": "code",
      "source": [
        "def load_fasta_sequences_from_df(merged_df_scale, min_length=29000):\n",
        "    sequences = []\n",
        "    accession_ids = []\n",
        "\n",
        "    for index, row in merged_df_scale.iterrows():\n",
        "        seq = str(row['fasta_sequence']).upper()\n",
        "        if len(seq) >= min_length:  # Only keep high-quality sequences\n",
        "            sequences.append(seq)\n",
        "            accession_ids.append(row['accession_id'])\n",
        "\n",
        "    return sequences, accession_ids\n",
        "\n",
        "sequences, accession_ids = load_fasta_sequences_from_df(merged_df_scale)\n",
        "\n",
        "# Check results\n",
        "print(f\"Loaded {len(sequences)} sequences from merged dataset.\")"
      ],
      "metadata": {
        "colab": {
          "base_uri": "https://localhost:8080/"
        },
        "id": "66-PtH66irBX",
        "outputId": "bce65944-a35a-42af-b196-bb159c180c55"
      },
      "id": "66-PtH66irBX",
      "execution_count": null,
      "outputs": [
        {
          "output_type": "stream",
          "name": "stdout",
          "text": [
            "Loaded 10000 sequences from merged dataset.\n"
          ]
        }
      ]
    },
    {
      "cell_type": "code",
      "source": [
        "from gensim.models import FastText\n",
        "\n",
        "# Load Pre-trained FastText Model\n",
        "model_path = \"/content/drive/MyDrive/Sequence Data/FastText_sars_cov2.model2\"\n",
        "model = FastText.load(model_path)\n",
        "\n",
        "# Check if file exists\n",
        "if not os.path.exists(model_path):\n",
        "    raise FileNotFoundError(f\"Model file not found at: {model_path}\")\n",
        "\n",
        "# Check if the model was loaded correctly\n",
        "try:\n",
        "    model = FastText.load(model_path)\n",
        "    print(\"Model loaded successfully.\")\n",
        "\n",
        "except Exception as e:\n",
        "    print(f\"Failed to load model: {e}\")"
      ],
      "metadata": {
        "colab": {
          "base_uri": "https://localhost:8080/"
        },
        "id": "-XhWM-SCjEur",
        "outputId": "4aa6a224-1940-42e4-d2d3-4dbbaa987eea"
      },
      "id": "-XhWM-SCjEur",
      "execution_count": null,
      "outputs": [
        {
          "output_type": "stream",
          "name": "stdout",
          "text": [
            "Model loaded successfully.\n"
          ]
        }
      ]
    },
    {
      "cell_type": "markdown",
      "source": [
        "Method 3: Distributed Inference using Ray\n",
        "Parallelize embedding generation across multiple CPU cores. First install and initialize Ray with a limited number of CPUs e.g., 2, to manage memory in low-resource environments like Colab. The generate_kmers function creates overlapping k-mers from sequences, and the embed_batch_with_ray function—decorated with @ray.remote loads a FastText model and computes embeddings for a batch of k-mer lists. Each batch runs as a distributed Ray task, enabling faster and scalable processing of large genomic datasets.\n"
      ],
      "metadata": {
        "id": "Ut9o7XvZwic0"
      },
      "id": "Ut9o7XvZwic0"
    },
    {
      "cell_type": "code",
      "execution_count": null,
      "id": "c6c0ed99",
      "metadata": {
        "id": "c6c0ed99"
      },
      "outputs": [],
      "source": [
        "# Method 3: Distributed Inference using Ray\n",
        "!pip install -q ray\n",
        "import ray"
      ]
    },
    {
      "cell_type": "code",
      "execution_count": null,
      "id": "0e9fbd28",
      "metadata": {
        "id": "0e9fbd28"
      },
      "outputs": [],
      "source": [
        "# Define k-mer generator function\n",
        "def generate_kmers(sequence, k=6):\n",
        "    return [sequence[i:i + k] for i in range(len(sequence) - k + 1)]"
      ]
    },
    {
      "cell_type": "code",
      "execution_count": null,
      "id": "1d3d2b00",
      "metadata": {
        "colab": {
          "base_uri": "https://localhost:8080/",
          "height": 77
        },
        "id": "1d3d2b00",
        "outputId": "2a14c6e0-79a3-40c6-eb8b-fae2fe5039d4"
      },
      "outputs": [
        {
          "output_type": "stream",
          "name": "stderr",
          "text": [
            "2025-05-24 19:29:35,187\tINFO worker.py:1888 -- Started a local Ray instance.\n"
          ]
        },
        {
          "output_type": "execute_result",
          "data": {
            "text/plain": [
              "RayContext(dashboard_url='', python_version='3.11.12', ray_version='2.46.0', ray_commit='c3dd2ca0c2a24ddf327a213d2e936bd4eaa4ca0a')"
            ],
            "text/html": [
              "<div class=\"lm-Widget p-Widget lm-Panel p-Panel jp-Cell-outputWrapper\">\n",
              "    <div style=\"margin-left: 50px;display: flex;flex-direction: row;align-items: center\">\n",
              "        <div class=\"jp-RenderedHTMLCommon\" style=\"display: flex; flex-direction: row;\">\n",
              "  <svg viewBox=\"0 0 567 224\" fill=\"none\" xmlns=\"http://www.w3.org/2000/svg\" style=\"height: 3em;\">\n",
              "    <g clip-path=\"url(#clip0_4338_178347)\">\n",
              "        <path d=\"M341.29 165.561H355.29L330.13 129.051C345.63 123.991 354.21 112.051 354.21 94.2307C354.21 71.3707 338.72 58.1807 311.88 58.1807H271V165.561H283.27V131.661H311.8C314.25 131.661 316.71 131.501 319.01 131.351L341.25 165.561H341.29ZM283.29 119.851V70.0007H311.82C331.3 70.0007 342.34 78.2907 342.34 94.5507C342.34 111.271 331.34 119.861 311.82 119.861L283.29 119.851ZM451.4 138.411L463.4 165.561H476.74L428.74 58.1807H416L367.83 165.561H380.83L392.83 138.411H451.4ZM446.19 126.601H398L422 72.1407L446.24 126.601H446.19ZM526.11 128.741L566.91 58.1807H554.35L519.99 114.181L485.17 58.1807H472.44L514.01 129.181V165.541H526.13V128.741H526.11Z\" fill=\"var(--jp-ui-font-color0)\"/>\n",
              "        <path d=\"M82.35 104.44C84.0187 97.8827 87.8248 92.0678 93.1671 87.9146C98.5094 83.7614 105.083 81.5067 111.85 81.5067C118.617 81.5067 125.191 83.7614 130.533 87.9146C135.875 92.0678 139.681 97.8827 141.35 104.44H163.75C164.476 101.562 165.622 98.8057 167.15 96.2605L127.45 56.5605C121.071 60.3522 113.526 61.6823 106.235 60.3005C98.9443 58.9187 92.4094 54.9203 87.8602 49.0574C83.3109 43.1946 81.0609 35.8714 81.5332 28.4656C82.0056 21.0599 85.1679 14.0819 90.4252 8.8446C95.6824 3.60726 102.672 0.471508 110.08 0.0272655C117.487 -0.416977 124.802 1.86091 130.647 6.4324C136.493 11.0039 140.467 17.5539 141.821 24.8501C143.175 32.1463 141.816 39.6859 138 46.0505L177.69 85.7505C182.31 82.9877 187.58 81.4995 192.962 81.4375C198.345 81.3755 203.648 82.742 208.33 85.3976C213.012 88.0532 216.907 91.9029 219.616 96.5544C222.326 101.206 223.753 106.492 223.753 111.875C223.753 117.258 222.326 122.545 219.616 127.197C216.907 131.848 213.012 135.698 208.33 138.353C203.648 141.009 198.345 142.375 192.962 142.313C187.58 142.251 182.31 140.763 177.69 138L138 177.7C141.808 184.071 143.155 191.614 141.79 198.91C140.424 206.205 136.44 212.75 130.585 217.313C124.731 221.875 117.412 224.141 110.004 223.683C102.596 223.226 95.6103 220.077 90.3621 214.828C85.1139 209.58 81.9647 202.595 81.5072 195.187C81.0497 187.779 83.3154 180.459 87.878 174.605C92.4405 168.751 98.9853 164.766 106.281 163.401C113.576 162.035 121.119 163.383 127.49 167.19L167.19 127.49C165.664 124.941 164.518 122.182 163.79 119.3H141.39C139.721 125.858 135.915 131.673 130.573 135.826C125.231 139.98 118.657 142.234 111.89 142.234C105.123 142.234 98.5494 139.98 93.2071 135.826C87.8648 131.673 84.0587 125.858 82.39 119.3H60C58.1878 126.495 53.8086 132.78 47.6863 136.971C41.5641 141.163 34.1211 142.972 26.7579 142.059C19.3947 141.146 12.6191 137.574 7.70605 132.014C2.79302 126.454 0.0813599 119.29 0.0813599 111.87C0.0813599 104.451 2.79302 97.2871 7.70605 91.7272C12.6191 86.1673 19.3947 82.5947 26.7579 81.6817C34.1211 80.7686 41.5641 82.5781 47.6863 86.7696C53.8086 90.9611 58.1878 97.2456 60 104.44H82.35ZM100.86 204.32C103.407 206.868 106.759 208.453 110.345 208.806C113.93 209.159 117.527 208.258 120.522 206.256C123.517 204.254 125.725 201.276 126.771 197.828C127.816 194.38 127.633 190.677 126.253 187.349C124.874 184.021 122.383 181.274 119.205 179.577C116.027 177.88 112.359 177.337 108.826 178.042C105.293 178.746 102.113 180.654 99.8291 183.44C97.5451 186.226 96.2979 189.718 96.3 193.32C96.2985 195.364 96.7006 197.388 97.4831 199.275C98.2656 201.163 99.4132 202.877 100.86 204.32ZM204.32 122.88C206.868 120.333 208.453 116.981 208.806 113.396C209.159 109.811 208.258 106.214 206.256 103.219C204.254 100.223 201.275 98.0151 197.827 96.97C194.38 95.9249 190.676 96.1077 187.348 97.4873C184.02 98.8669 181.274 101.358 179.577 104.536C177.879 107.714 177.337 111.382 178.041 114.915C178.746 118.448 180.653 121.627 183.439 123.911C186.226 126.195 189.717 127.443 193.32 127.44C195.364 127.443 197.388 127.042 199.275 126.259C201.163 125.476 202.878 124.328 204.32 122.88ZM122.88 19.4205C120.333 16.8729 116.981 15.2876 113.395 14.9347C109.81 14.5817 106.213 15.483 103.218 17.4849C100.223 19.4868 98.0146 22.4654 96.9696 25.9131C95.9245 29.3608 96.1073 33.0642 97.4869 36.3922C98.8665 39.7202 101.358 42.4668 104.535 44.1639C107.713 45.861 111.381 46.4036 114.914 45.6992C118.447 44.9949 121.627 43.0871 123.911 40.301C126.195 37.515 127.442 34.0231 127.44 30.4205C127.44 28.3772 127.038 26.3539 126.255 24.4664C125.473 22.5788 124.326 20.8642 122.88 19.4205ZM19.42 100.86C16.8725 103.408 15.2872 106.76 14.9342 110.345C14.5813 113.93 15.4826 117.527 17.4844 120.522C19.4863 123.518 22.4649 125.726 25.9127 126.771C29.3604 127.816 33.0638 127.633 36.3918 126.254C39.7198 124.874 42.4664 122.383 44.1635 119.205C45.8606 116.027 46.4032 112.359 45.6988 108.826C44.9944 105.293 43.0866 102.114 40.3006 99.8296C37.5145 97.5455 34.0227 96.2983 30.42 96.3005C26.2938 96.3018 22.337 97.9421 19.42 100.86ZM100.86 100.86C98.3125 103.408 96.7272 106.76 96.3742 110.345C96.0213 113.93 96.9226 117.527 98.9244 120.522C100.926 123.518 103.905 125.726 107.353 126.771C110.8 127.816 114.504 127.633 117.832 126.254C121.16 124.874 123.906 122.383 125.604 119.205C127.301 116.027 127.843 112.359 127.139 108.826C126.434 105.293 124.527 102.114 121.741 99.8296C118.955 97.5455 115.463 96.2983 111.86 96.3005C109.817 96.299 107.793 96.701 105.905 97.4835C104.018 98.2661 102.303 99.4136 100.86 100.86Z\" fill=\"#00AEEF\"/>\n",
              "    </g>\n",
              "    <defs>\n",
              "        <clipPath id=\"clip0_4338_178347\">\n",
              "            <rect width=\"566.93\" height=\"223.75\" fill=\"white\"/>\n",
              "        </clipPath>\n",
              "    </defs>\n",
              "  </svg>\n",
              "</div>\n",
              "\n",
              "        <table class=\"jp-RenderedHTMLCommon\" style=\"border-collapse: collapse;color: var(--jp-ui-font-color1);font-size: var(--jp-ui-font-size1);\">\n",
              "    <tr>\n",
              "        <td style=\"text-align: left\"><b>Python version:</b></td>\n",
              "        <td style=\"text-align: left\"><b>3.11.12</b></td>\n",
              "    </tr>\n",
              "    <tr>\n",
              "        <td style=\"text-align: left\"><b>Ray version:</b></td>\n",
              "        <td style=\"text-align: left\"><b>2.46.0</b></td>\n",
              "    </tr>\n",
              "    \n",
              "</table>\n",
              "\n",
              "    </div>\n",
              "</div>\n"
            ]
          },
          "metadata": {},
          "execution_count": 11
        }
      ],
      "source": [
        "# Shut down any existing Ray cluster\n",
        "ray.shutdown()\n",
        "\n",
        "# Start Ray with limited CPU to prevent memory overload\n",
        "ray.init(num_cpus=2)  # Use 1 or 2 CPUs if you're in Colab\n"
      ]
    },
    {
      "cell_type": "code",
      "execution_count": null,
      "id": "9f0fc233",
      "metadata": {
        "id": "9f0fc233"
      },
      "outputs": [],
      "source": [
        "# Remote function to embed a batch of kmer lists\n",
        "@ray.remote\n",
        "def embed_batch_with_ray(kmers_batch, model_path=\"FastText_sars_cov2.model2\"):\n",
        "\n",
        "    model = FastText.load(model_path)\n",
        "    embeddings2 = []\n",
        "\n",
        "    for kmers in kmers_batch:\n",
        "        vectors = [model.wv[k] for k in kmers if k in model.wv]\n",
        "        embedding = np.mean(vectors, axis=0) if vectors else np.zeros(model.vector_size)\n",
        "        embeddings2.append(embedding)\n",
        "\n",
        "    return embeddings2"
      ]
    },
    {
      "cell_type": "markdown",
      "source": [
        "Define a generator function generate_kmer_batches that splits sequences into batches, converts each sequence into k-mers, and yields them for processing. After running distributed embedding with Ray, it stacks all batch results into a single array of embeddings and saves them to disk as embeddings_ray_10k.npy. The final shape of the embeddings is printed to confirm successful processing.\n"
      ],
      "metadata": {
        "id": "a3LOtabNxR9F"
      },
      "id": "a3LOtabNxR9F"
    },
    {
      "cell_type": "code",
      "execution_count": null,
      "id": "67fb4407",
      "metadata": {
        "id": "67fb4407"
      },
      "outputs": [],
      "source": [
        "# Prepare batches of kmer sequences\n",
        "def generate_kmer_batches(sequences, k=6, batch_size=200):\n",
        "    for i in range(0, len(sequences), batch_size):\n",
        "        batch = sequences[i:i + batch_size]\n",
        "        kmers_batch = [generate_kmers(seq, k) for seq in batch]\n",
        "        yield kmers_batch"
      ]
    },
    {
      "cell_type": "code",
      "execution_count": null,
      "id": "e7056874",
      "metadata": {
        "id": "e7056874"
      },
      "outputs": [],
      "source": [
        "# Generate kmer batches and process with Ray\n",
        "k = 6\n",
        "batch_size = 200\n",
        "\n",
        "futures = []\n",
        "for kmers_batch in generate_kmer_batches(sequences, k=k, batch_size=batch_size):\n",
        "    futures.append(embed_batch_with_ray.remote(kmers_batch, model_path=model_path))\n",
        "\n",
        "# Collect results once all tasks are submitted\n",
        "batch_results = ray.get(futures)\n"
      ]
    },
    {
      "cell_type": "code",
      "execution_count": null,
      "id": "8873f633",
      "metadata": {
        "id": "8873f633"
      },
      "outputs": [],
      "source": [
        "# Merge all results into one embedding array\n",
        "embeddings = np.vstack([np.vstack(batch) for batch in batch_results])"
      ]
    },
    {
      "cell_type": "code",
      "execution_count": null,
      "id": "26832a86",
      "metadata": {
        "colab": {
          "base_uri": "https://localhost:8080/"
        },
        "id": "26832a86",
        "outputId": "b09bfb2b-34ed-4df3-85cb-c514cde18223"
      },
      "outputs": [
        {
          "output_type": "stream",
          "name": "stdout",
          "text": [
            "Final embeddings shape: (10000, 100)\n"
          ]
        }
      ],
      "source": [
        "# Save to disk\n",
        "np.save(\"embeddings_ray_10k.npy\", embeddings)\n",
        "print(\"Final embeddings shape:\", embeddings.shape)"
      ]
    },
    {
      "cell_type": "markdown",
      "source": [
        "Then visualize a subset of 3,000 sequence embeddings using UMAP for dimensionality reduction. It selects the first 3,000 embeddings from the dataset, reduces them to 2 dimensions with UMAP preserving their structure and similarity, and then plots the results as a scatter plot using Matplotlib. This helps in visually identifying patterns, clusters, or outliers in the sequence data.\n"
      ],
      "metadata": {
        "id": "ohyv1jmMxdPR"
      },
      "id": "ohyv1jmMxdPR"
    },
    {
      "cell_type": "code",
      "execution_count": null,
      "id": "a9f9fbbf",
      "metadata": {
        "colab": {
          "base_uri": "https://localhost:8080/",
          "height": 636
        },
        "id": "a9f9fbbf",
        "outputId": "c389070b-1573-4040-8606-8dfc9043d706"
      },
      "outputs": [
        {
          "output_type": "stream",
          "name": "stderr",
          "text": [
            "/usr/local/lib/python3.11/dist-packages/sklearn/utils/deprecation.py:151: FutureWarning: 'force_all_finite' was renamed to 'ensure_all_finite' in 1.6 and will be removed in 1.8.\n",
            "  warnings.warn(\n",
            "/usr/local/lib/python3.11/dist-packages/umap/umap_.py:1943: UserWarning: n_jobs value -1 overridden to 1 by setting random_state. Use no seed for parallelism.\n",
            "  warn(f\"n_jobs value {self.n_jobs} overridden to 1 by setting random_state. Use no seed for parallelism.\")\n"
          ]
        },
        {
          "output_type": "display_data",
          "data": {
            "text/plain": [
              "<Figure size 1000x600 with 1 Axes>"
            ],
            "image/png": "[encoded data removed]"
          },
          "metadata": {}
        }
      ],
      "source": [
        "import umap\n",
        "import matplotlib.pyplot as plt\n",
        "\n",
        "subset = embeddings[:3000]\n",
        "\n",
        "reducer = umap.UMAP(n_components=2, random_state=42)\n",
        "embedding_2d = reducer.fit_transform(subset)\n",
        "\n",
        "plt.figure(figsize=(10, 6))\n",
        "plt.scatter(embedding_2d[:, 0], embedding_2d[:, 1], s=5, alpha=0.7)\n",
        "plt.title(\"UMAP projection of 3,000 sequence embeddings\")\n",
        "plt.grid(True)\n",
        "plt.show()\n"
      ]
    }
  ],
  "metadata": {
    "colab": {
      "provenance": [],
      "include_colab_link": true
    },
    "language_info": {
      "name": "python"
    },
    "kernelspec": {
      "name": "python3",
      "display_name": "Python 3"
    }
  },
  "nbformat": 4,
  "nbformat_minor": 5
}