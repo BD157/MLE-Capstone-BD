{
 "cells": [
  {
   "cell_type": "code",
   "execution_count": 22,
   "id": "e6fee601-c8d3-4892-990e-5a8d825dedc2",
   "metadata": {},
   "outputs": [
    {
     "name": "stdout",
     "output_type": "stream",
     "text": [
      "Requirement already satisfied: pandas in /opt/conda/lib/python3.11/site-packages (2.2.3)\n",
      "Requirement already satisfied: boto3 in /opt/conda/lib/python3.11/site-packages (1.36.3)\n",
      "Requirement already satisfied: numpy>=1.23.2 in /opt/conda/lib/python3.11/site-packages (from pandas) (1.26.4)\n",
      "Requirement already satisfied: python-dateutil>=2.8.2 in /opt/conda/lib/python3.11/site-packages (from pandas) (2.9.0.post0)\n",
      "Requirement already satisfied: pytz>=2020.1 in /opt/conda/lib/python3.11/site-packages (from pandas) (2024.1)\n",
      "Requirement already satisfied: tzdata>=2022.7 in /opt/conda/lib/python3.11/site-packages (from pandas) (2025.1)\n",
      "Requirement already satisfied: botocore<1.37.0,>=1.36.3 in /opt/conda/lib/python3.11/site-packages (from boto3) (1.36.3)\n",
      "Requirement already satisfied: jmespath<2.0.0,>=0.7.1 in /opt/conda/lib/python3.11/site-packages (from boto3) (1.0.1)\n",
      "Requirement already satisfied: s3transfer<0.12.0,>=0.11.0 in /opt/conda/lib/python3.11/site-packages (from boto3) (0.11.2)\n",
      "Requirement already satisfied: urllib3!=2.2.0,<3,>=1.25.4 in /opt/conda/lib/python3.11/site-packages (from botocore<1.37.0,>=1.36.3->boto3) (2.3.0)\n",
      "Requirement already satisfied: six>=1.5 in /opt/conda/lib/python3.11/site-packages (from python-dateutil>=2.8.2->pandas) (1.17.0)\n"
     ]
    }
   ],
   "source": [
    "!pip install pandas boto3"
   ]
  },
  {
   "cell_type": "code",
   "execution_count": null,
   "id": "c05f9d98-5542-4174-ac95-8acd49acd14d",
   "metadata": {},
   "outputs": [],
   "source": [
    "import boto3\n",
    "import pandas as pd\n",
    "from io import StringIO\n",
    "import seaborn as sns\n",
    "import geopandas as gpd\n",
    "from google.colab import files\n",
    "import matplotlib.pyplot as plt"
   ]
  },
  {
   "cell_type": "code",
   "execution_count": 24,
   "id": "857411a6-b0e9-4237-8aaf-1cfd6c92b9a3",
   "metadata": {},
   "outputs": [],
   "source": [
    "s3_bucket = \"bd-sars-cov2-data\"\n",
    "s3_client = boto3.client(\"s3\")"
   ]
  },
  {
   "cell_type": "code",
   "execution_count": 26,
   "id": "3a50ec0d-d4b6-4543-9d12-cab0630e6743",
   "metadata": {},
   "outputs": [
    {
     "name": "stdout",
     "output_type": "stream",
     "text": [
      "2020_sequences.acc\n",
      "2020_sequences.csv\n",
      "2020_sequences.fasta\n",
      "First3m_2022_sequences.acc\n",
      "First3m_2022_sequences.csv\n",
      "First3m_2022_sequences.fasta\n",
      "First6m_2021_sequences.acc\n",
      "First6m_2021_sequences.csv\n",
      "First6m_2021_sequences.fasta\n",
      "Last6m_2021_sequences.acc\n",
      "Last6m_2021_sequences.csv\n",
      "Last6m_2021_sequences.fasta\n",
      "Last6m_2022_sequences.acc\n",
      "Last6m_2022_sequences.csv\n",
      "Last6m_2022_sequences.fasta\n",
      "Second3m_2022_sequences.acc\n",
      "Second3m_2022_sequences.csv\n",
      "Second3m_2022_sequences.fasta\n"
     ]
    }
   ],
   "source": [
    "# List all objects in the S3 bucket\n",
    "response = s3_client.list_objects_v2(Bucket=s3_bucket)\n",
    "\n",
    "# Check if there are any objects and list their keys (file paths)\n",
    "if 'Contents' in response:\n",
    "    for obj in response['Contents']:\n",
    "        print(obj['Key'])\n",
    "else:\n",
    "    print(\"No objects found in the bucket.\")"
   ]
  },
  {
   "cell_type": "code",
   "execution_count": 27,
   "id": "994f0710-cb38-44fa-b4c2-01ae0cd98c14",
   "metadata": {},
   "outputs": [],
   "source": [
    "# Read the metadata CSV files directly in S3 without downloading them into local sagemaker instance\n",
    "# Look for CSV files in the S3 bucket -- This is our Metadata\n",
    "response = s3_client.list_objects_v2(Bucket=s3_bucket, Prefix=\"\")\n",
    "# List all CSV files in the S3 bucket\n",
    "csv_files = [obj['Key'] for obj in response.get('Contents', []) if obj['Key'].endswith('.csv')]"
   ]
  },
  {
   "cell_type": "code",
   "execution_count": 28,
   "id": "b349e5ec-100d-406d-96f9-be45a90193b0",
   "metadata": {},
   "outputs": [],
   "source": [
    "# Read the metadata CSV file directly from S3\n",
    "metadata_file_key = csv_files[0]  # Pick the first CSV file in the list\n",
    "csv_obj = s3_client.get_object(Bucket=s3_bucket, Key=metadata_file_key)\n",
    "csv_content = csv_obj[\"Body\"].read().decode(\"utf-8\")"
   ]
  },
  {
   "cell_type": "code",
   "execution_count": 29,
   "id": "036981ac-a53f-479c-9d82-9fec981c1263",
   "metadata": {},
   "outputs": [
    {
     "name": "stderr",
     "output_type": "stream",
     "text": [
      "/tmp/ipykernel_6938/1513178843.py:2: DtypeWarning: Columns (3,11,20,24) have mixed types. Specify dtype option on import or set low_memory=False.\n",
      "  metadata_df = pd.read_csv(StringIO(csv_content))\n"
     ]
    },
    {
     "name": "stdout",
     "output_type": "stream",
     "text": [
      "Index(['accession_id', 'Organism_Name', 'GenBank_RefSeq', 'Assembly',\n",
      "       'SRA_Accession', 'Submitters', 'Organization', 'Org_location',\n",
      "       'Release_Date', 'Pangolin', 'PangoVersions', 'Surveillance_Sampling',\n",
      "       'Isolate', 'Species', 'Genus', 'Family', 'Molecule_type', 'Length',\n",
      "       'Nuc_Completeness', 'Genotype', 'Segment', 'Publications',\n",
      "       'Geo_Location', 'Country', 'USA', 'Host', 'Tissue_Specimen_Source',\n",
      "       'Collection_Date', 'BioSample', 'BioProject', 'GenBank_Title'],\n",
      "      dtype='object')\n",
      "  accession_id                                    Organism_Name  \\\n",
      "0   PV126503.1  Severe acute respiratory syndrome coronavirus 2   \n",
      "1   PV126504.1  Severe acute respiratory syndrome coronavirus 2   \n",
      "2   PV126506.1  Severe acute respiratory syndrome coronavirus 2   \n",
      "3   PV126509.1  Severe acute respiratory syndrome coronavirus 2   \n",
      "4   PV126510.1  Severe acute respiratory syndrome coronavirus 2   \n",
      "\n",
      "  GenBank_RefSeq Assembly SRA_Accession  \\\n",
      "0        GenBank      NaN           NaN   \n",
      "1        GenBank      NaN           NaN   \n",
      "2        GenBank      NaN           NaN   \n",
      "3        GenBank      NaN           NaN   \n",
      "4        GenBank      NaN           NaN   \n",
      "\n",
      "                                 Submitters Organization Org_location  \\\n",
      "0  Mitchell,M., Tekin,O., Dong,Y., Huang,Y.  FLDOH, BPHL          USA   \n",
      "1  Mitchell,M., Tekin,O., Dong,Y., Huang,Y.  FLDOH, BPHL          USA   \n",
      "2  Mitchell,M., Tekin,O., Dong,Y., Huang,Y.  FLDOH, BPHL          USA   \n",
      "3  Mitchell,M., Tekin,O., Dong,Y., Huang,Y.  FLDOH, BPHL          USA   \n",
      "4  Mitchell,M., Tekin,O., Dong,Y., Huang,Y.  FLDOH, BPHL          USA   \n",
      "\n",
      "  Release_Date Pangolin  ... Publications Geo_Location Country USA  \\\n",
      "0   2025-02-18  B.1.306  ...          NaN      USA: FL     USA  FL   \n",
      "1   2025-02-18    B.1.2  ...          NaN      USA: FL     USA  FL   \n",
      "2   2025-02-18    B.1.2  ...          NaN      USA: FL     USA  FL   \n",
      "3   2025-02-18  B.1.240  ...          NaN      USA: FL     USA  FL   \n",
      "4   2025-02-18  B.1.369  ...          NaN      USA: FL     USA  FL   \n",
      "\n",
      "           Host Tissue_Specimen_Source Collection_Date     BioSample  \\\n",
      "0  Homo sapiens                    NaN      2020-10-30  SAMN46879445   \n",
      "1  Homo sapiens                    NaN      2020-10-30  SAMN46879446   \n",
      "2  Homo sapiens                    NaN      2020-10-30  SAMN46879448   \n",
      "3  Homo sapiens                    NaN      2020-10-30  SAMN46879451   \n",
      "4  Homo sapiens                    NaN      2020-10-30  SAMN46879452   \n",
      "\n",
      "    BioProject                                      GenBank_Title  \n",
      "0  PRJNA630714  Severe acute respiratory syndrome coronavirus ...  \n",
      "1  PRJNA630714  Severe acute respiratory syndrome coronavirus ...  \n",
      "2  PRJNA630714  Severe acute respiratory syndrome coronavirus ...  \n",
      "3  PRJNA630714  Severe acute respiratory syndrome coronavirus ...  \n",
      "4  PRJNA630714  Severe acute respiratory syndrome coronavirus ...  \n",
      "\n",
      "[5 rows x 31 columns]\n"
     ]
    }
   ],
   "source": [
    "# Load CSV content into a pandas DataFrame\n",
    "metadata_df = pd.read_csv(StringIO(csv_content))\n",
    "\n",
    "# Rename the 'Accession' column for consistency\n",
    "metadata_df.rename(columns={'Accession': 'accession_id'}, inplace=True)\n",
    "\n",
    "# Inspect the metadata DataFrame\n",
    "print(metadata_df.columns)\n",
    "print(metadata_df.head())"
   ]
  },
  {
   "cell_type": "code",
   "execution_count": 30,
   "id": "f60e97f4-8dae-4c07-b3d3-162ab63960a3",
   "metadata": {},
   "outputs": [],
   "source": [
    "# List all .acc files in the S3 bucket\n",
    "acc_files = [obj['Key'] for obj in response.get('Contents', []) if obj['Key'].endswith('.acc')]\n",
    "\n",
    "# Read the .acc file\n",
    "acc_file_key = acc_files[0]  # Pick the first .acc file in the list\n",
    "acc_obj = s3_client.get_object(Bucket=s3_bucket, Key=acc_file_key)\n",
    "acc_content = acc_obj[\"Body\"].read().decode(\"utf-8\")"
   ]
  },
  {
   "cell_type": "code",
   "execution_count": 31,
   "id": "eb871abb-5931-42be-9fdd-0457c501b3d8",
   "metadata": {},
   "outputs": [
    {
     "name": "stdout",
     "output_type": "stream",
     "text": [
      "Index(['accession_id'], dtype='object')\n",
      "  accession_id\n",
      "0   PV126503.1\n",
      "1   PV126504.1\n",
      "2   PV126506.1\n",
      "3   PV126509.1\n",
      "4   PV126510.1\n"
     ]
    }
   ],
   "source": [
    "# Split into a list of accession IDs\n",
    "acc_list = acc_content.splitlines()\n",
    "\n",
    "# Convert acc_list to DataFrame\n",
    "acc_df = pd.DataFrame(acc_list, columns=['accession_id'])\n",
    "\n",
    "# Inspect the accession DataFrame\n",
    "print(acc_df.columns)\n",
    "print(acc_df.head())"
   ]
  },
  {
   "cell_type": "code",
   "execution_count": 32,
   "id": "bd74b073-6045-49e5-86e2-7d2a6d3ff82f",
   "metadata": {},
   "outputs": [],
   "source": [
    "# List all FASTA files in the S3 bucket\n",
    "fasta_files = [obj['Key'] for obj in response.get('Contents', []) if obj['Key'].endswith('.fasta')]\n",
    "\n",
    "# Dictionary to store FASTA sequences\n",
    "# Read and process each FASTA file\n",
    "fasta_data = {}"
   ]
  },
  {
   "cell_type": "code",
   "execution_count": null,
   "id": "fcc30c18-fcf9-490d-bade-e1e3c745570d",
   "metadata": {},
   "outputs": [],
   "source": [
    "for fasta_file_key in fasta_files:\n",
    "    fasta_obj = s3_client.get_object(Bucket=s3_bucket, Key=fasta_file_key)\n",
    "    fasta_content = fasta_obj[\"Body\"].read().decode(\"utf-8\")\n",
    "    \n",
    "    # Extract Accession ID from the first line of the FASTA file\n",
    "    accession_id = fasta_content.split(\"\\n\")[0].split()[0].replace(\">\", \"\")\n",
    "    \n",
    "    # Store the sequence by accession ID\n",
    "    fasta_data[accession_id] = fasta_content"
   ]
  },
  {
   "cell_type": "code",
   "execution_count": null,
   "id": "b90d6fbc-9ed0-4357-8260-8c17cd8aa09c",
   "metadata": {},
   "outputs": [],
   "source": [
    "# Convert fasta_data dictionary to a DataFrame\n",
    "fasta_df = pd.DataFrame(list(fasta_data.items()), columns=['accession_id', 'fasta_sequence'])\n",
    "# Inspect the FASTA DataFrame\n",
    "print(fasta_df.columns)\n",
    "print(fasta_df.head())"
   ]
  },
  {
   "cell_type": "code",
   "execution_count": null,
   "id": "97629520-5c88-4119-9f2b-3014daa6ac27",
   "metadata": {},
   "outputs": [],
   "source": [
    "# Merge all datasets on 'accession_id'\n",
    "merged_df = acc_df.merge(metadata_df, on='accession_id', how='left').merge(fasta_df, on='accession_id', how='left')\n",
    "\n",
    "# Inspect the merged DataFrame\n",
    "print(merged_df.columns)"
   ]
  },
  {
   "cell_type": "code",
   "execution_count": null,
   "id": "e84d7caf-82d7-4dc4-b152-09c8786272f1",
   "metadata": {},
   "outputs": [],
   "source": [
    "# Verify if the data was merged successfully\n",
    "# Display first few rows\n",
    "print(merged_df.head())\n",
    "\n",
    "# Check the shape (rows, columns)\n",
    "print(\"\\nShape of merged dataset:\", merged_df.shape)"
   ]
  },
  {
   "cell_type": "code",
   "execution_count": null,
   "id": "d21abe4a-50ac-47cc-aeeb-caedbacab3f7",
   "metadata": {},
   "outputs": [],
   "source": [
    "# Check the number of sequences in the dataset\n",
    "print(\"\\nNumber of unique sequences:\", merged_df['fasta_sequence'].nunique())"
   ]
  },
  {
   "cell_type": "code",
   "execution_count": null,
   "id": "f47e6398-b6a1-49b6-be48-0adcc1ab171a",
   "metadata": {},
   "outputs": [],
   "source": [
    "# Check the number of unique accession ids in the merged dataset\n",
    "print(\"\\nUnique accession IDs:\", merged_df['accession_id'].nunique())"
   ]
  },
  {
   "cell_type": "code",
   "execution_count": null,
   "id": "8df9c8b7-4c01-4475-b2d2-6617c512a765",
   "metadata": {},
   "outputs": [],
   "source": [
    "# Check for missingness in all columns\n",
    "print(\"\\nMissing values per column:\\n\", merged_df.isnull().sum())"
   ]
  },
  {
   "cell_type": "code",
   "execution_count": null,
   "id": "30165015-cc9e-4316-90ac-9d0f488e7eb7",
   "metadata": {},
   "outputs": [],
   "source": [
    "# Check if there are duplicate accession ids\n",
    "print(\"\\nDuplicate accession IDs:\", merged_df['accession_id'].duplicated().sum())"
   ]
  },
  {
   "cell_type": "code",
   "execution_count": null,
   "id": "88411cc6-e6d7-4fb1-8e07-9e3401bb88d6",
   "metadata": {},
   "outputs": [],
   "source": [
    "# Check datatypes of all columns in the merged dataset\n",
    "print(\"\\nColumn data types:\\n\", merged_df.dtypes)"
   ]
  },
  {
   "cell_type": "code",
   "execution_count": null,
   "id": "0f9cda5f-8069-4f68-bc0c-601b9d5cd194",
   "metadata": {},
   "outputs": [],
   "source": [
    "# Convert date columns to datetime formats\n",
    "merged_df['Collection_Date'] = pd.to_datetime(merged_df['Collection_Date'], errors='coerce')"
   ]
  },
  {
   "cell_type": "code",
   "execution_count": null,
   "id": "84fe0dcb-da97-46be-b631-097b18b7a726",
   "metadata": {},
   "outputs": [],
   "source": [
    "# Check sequence length\n",
    "merged_df['sequence_length'] = merged_df['fasta_sequence'].str.len()\n",
    "print(\"\\nSummary of sequence lengths:\\n\", merged_df['sequence_length'].describe())"
   ]
  },
  {
   "cell_type": "code",
   "execution_count": null,
   "id": "c4fd7c15-514b-40f4-a67f-0e53f7d49887",
   "metadata": {},
   "outputs": [],
   "source": [
    "# Identify and remove any outliers in sequence length based on Q1, Q3 and Inter Quartile Range\n",
    "Q1 = merged_df['sequence_length'].quantile(0.25)\n",
    "Q3 = merged_df['sequence_length'].quantile(0.75)\n",
    "IQR = Q3 - Q1\n",
    "lower_bound = Q1 - 1.5 * IQR\n",
    "upper_bound = Q3 + 1.5 * IQR\n",
    "\n",
    "outliers = merged_df[(merged_df['sequence_length'] < lower_bound) | (merged_df['sequence_length'] > upper_bound)]\n",
    "print(\"\\nNumber of outlier sequences:\", outliers.shape[0])\n",
    "\n",
    "# Remove outliers if necessary\n",
    "# merged_df = merged_df[(merged_df['sequence_length'] >= lower_bound) & (merged_df['sequence_length'] <= upper_bound)]"
   ]
  },
  {
   "cell_type": "code",
   "execution_count": null,
   "id": "342166f8-abac-46fe-907a-1ee5712d2c51",
   "metadata": {},
   "outputs": [],
   "source": [
    "# Check unique organisms -- All of these should be SARS-CoV-2\n",
    "# Cause only these with their relevant ID were downloaded from the NCBI website\n",
    "print(\"\\nUnique organism names:\", merged_df['Organism_Name'].unique())"
   ]
  },
  {
   "cell_type": "code",
   "execution_count": null,
   "id": "48764eed-310d-487d-9258-1d4c8b1beca8",
   "metadata": {},
   "outputs": [],
   "source": [
    "# Check for genome completeness -- All of these should be complete\n",
    "print(\"\\nGenome completeness values:\", merged_df['Nuc_Completeness'].value_counts())"
   ]
  },
  {
   "cell_type": "code",
   "execution_count": null,
   "id": "0b41f2c0-8b77-45a6-872c-3da7fc2e6611",
   "metadata": {},
   "outputs": [],
   "source": [
    "# Check for missing collection dates -- Ideally none of these should be missing\n",
    "missing_dates = merged_df['Collection_Date'].isnull().sum()\n",
    "print(\"\\nMissing collection dates:\", missing_dates)"
   ]
  },
  {
   "cell_type": "code",
   "execution_count": null,
   "id": "e11807cd-3783-4785-b75f-b8c9b67985e1",
   "metadata": {},
   "outputs": [],
   "source": [
    "# Extract year from collection date\n",
    "merged_df['Year'] = merged_df['Collection_Date'].dt.year\n",
    "print(\"\\nYear distribution:\\n\", merged_df['Year'].value_counts())"
   ]
  },
  {
   "cell_type": "code",
   "execution_count": null,
   "id": "6f094a13-6c0f-4365-bfd8-531a22aa32d4",
   "metadata": {},
   "outputs": [],
   "source": [
    "# Check for what is the distribution of countries\n",
    "print(\"\\nTop 10 countries in dataset:\\n\", merged_df['Country'].value_counts().head(10))"
   ]
  },
  {
   "cell_type": "code",
   "execution_count": null,
   "id": "8cf03183-2cd1-449b-8301-88c721122489",
   "metadata": {},
   "outputs": [],
   "source": [
    "# Country names -- remove any leading or trailing spaces\n",
    "# Capitalize the first letter of each word using str.title().\n",
    "merged_df['Country'] = merged_df['Country'].str.strip().str.title()"
   ]
  },
  {
   "cell_type": "code",
   "execution_count": null,
   "id": "ce267ce1-b481-4791-82b0-7140e0a435d2",
   "metadata": {},
   "outputs": [],
   "source": [
    "# Check pango lineage distribution\n",
    "print(\"\\nTop 10 Pango lineages:\\n\", merged_df['Pangolin'].value_counts().head(10))"
   ]
  },
  {
   "cell_type": "code",
   "execution_count": null,
   "id": "861a0210-6360-4360-8c14-f18f1a34ee8b",
   "metadata": {},
   "outputs": [],
   "source": [
    "# Remove unnecessary columns\n",
    "columns_to_drop = ['GenBank_RefSeq', 'Submitters', 'BioSample', 'BioProject', 'Publications']\n",
    "merged_df.drop(columns=columns_to_drop, inplace=True)"
   ]
  },
  {
   "cell_type": "code",
   "execution_count": null,
   "id": "a3811bcb-f3ef-42ac-8fd6-916ee76193ac",
   "metadata": {},
   "outputs": [],
   "source": [
    "# Check for missing pangolin Lineages\n",
    "missing_pango = merged_df['Pangolin'].isnull().sum()\n",
    "print(\"\\nMissing Pango lineage values:\", missing_pango)"
   ]
  },
  {
   "cell_type": "code",
   "execution_count": null,
   "id": "12d8bba8-340b-460d-9528-f0a31d6e47d8",
   "metadata": {},
   "outputs": [],
   "source": [
    "# Encode categorical variables\n",
    "merged_df['Country'] = merged_df['Country'].astype('category').cat.codes\n",
    "merged_df['Pangolin'] = merged_df['Pangolin'].astype('category').cat.codes"
   ]
  },
  {
   "cell_type": "code",
   "execution_count": null,
   "id": "fb655974-0ea1-48b6-8833-4adad7219152",
   "metadata": {},
   "outputs": [],
   "source": [
    "# Check feature correlations\n",
    "# Select only numeric columns from the data\n",
    "numeric_df = merged_df.select_dtypes(include=['number'])\n",
    "\n",
    "# Calculate the correlation matrix for numeric columns only\n",
    "corr_matrix = numeric_df.corr()\n",
    "\n",
    "# Plot the heatmap\n",
    "plt.figure(figsize=(10, 6))\n",
    "sns.heatmap(corr_matrix, annot=True, cmap=\"coolwarm\", fmt=\".2f\")\n",
    "plt.show()"
   ]
  },
  {
   "cell_type": "code",
   "execution_count": null,
   "id": "524e4b38-16b8-4ec1-bc9e-4e15f4b2375e",
   "metadata": {},
   "outputs": [],
   "source": [
    "# Check feature distributions\n",
    "merged_df.hist(figsize=(12, 8), bins=30)\n",
    "plt.show()"
   ]
  },
  {
   "cell_type": "code",
   "execution_count": null,
   "id": "99f68be3-c712-4101-9e53-586afbd9cdae",
   "metadata": {},
   "outputs": [],
   "source": [
    "# Convert to lower case for consistency\n",
    "merged_df.columns = merged_df.columns.str.lower()"
   ]
  },
  {
   "cell_type": "code",
   "execution_count": null,
   "id": "2dd72760-275b-41bd-87d2-b17babe74e68",
   "metadata": {},
   "outputs": [],
   "source": [
    "# Check memory usage if need be\n",
    "# print(\"\\nMemory usage before optimization:\")\n",
    "# print(merged_df.memory_usage(deep=True))"
   ]
  },
  {
   "cell_type": "code",
   "execution_count": null,
   "id": "a83b2df9-b044-4dd4-9058-f1b62be1a14f",
   "metadata": {},
   "outputs": [],
   "source": [
    "# Save cleaned data if need be\n",
    "# merged_df.to_csv(\"cleaned_dataset.csv\", index=False)\n",
    "\n",
    "# Download the CSV file to PC if required\n",
    "# files.download('cleaned_dataset.csv')"
   ]
  },
  {
   "cell_type": "code",
   "execution_count": null,
   "id": "e68c8ec9-e33c-416a-ab55-28bdc1b5dffe",
   "metadata": {},
   "outputs": [],
   "source": [
    "# Check column names in the DataFrame\n",
    "print(merged_df.columns)"
   ]
  },
  {
   "cell_type": "code",
   "execution_count": null,
   "id": "683e3c1d-b8cd-4ac1-9aa0-2bcb61964bd6",
   "metadata": {},
   "outputs": [],
   "source": [
    "# Collection_date should be in the datetime format\n",
    "merged_df['collection_date'] = pd.to_datetime(merged_df['collection_date'], errors='coerce')\n",
    "\n",
    "# Extract the Year from the collection_date\n",
    "merged_df['Year'] = merged_df['collection_date'].dt.year\n",
    "\n",
    "# Plot the boxplot\n",
    "plt.figure(figsize=(10, 5))\n",
    "sns.boxplot(x=merged_df['Year'], y=merged_df['sequence_length'])\n",
    "plt.xticks(rotation=45)\n",
    "plt.title(\"Genome Sequence Length Distribution by Year\")\n",
    "plt.xlabel(\"Year\")\n",
    "plt.ylabel(\"Sequence Length\")\n",
    "plt.show()"
   ]
  },
  {
   "cell_type": "code",
   "execution_count": null,
   "id": "5da6463a-4844-44af-956f-fea92b6dddbe",
   "metadata": {},
   "outputs": [],
   "source": [
    "# Distribution of sequence collected by month\n",
    "merged_df['Month'] = merged_df['collection_date'].dt.month\n",
    "\n",
    "plt.figure(figsize=(10, 5))\n",
    "sns.countplot(x=merged_df['Month'], palette='coolwarm')\n",
    "plt.xticks(range(0, 12), ['Jan', 'Feb', 'Mar', 'Apr', 'May', 'Jun', 'Jul', 'Aug', 'Sep', 'Oct', 'Nov', 'Dec'])\n",
    "plt.title(\"Distribution of Collected Sequences by Month\")\n",
    "plt.xlabel(\"Month\")\n",
    "plt.ylabel(\"Number of Sequences\")\n",
    "plt.show()"
   ]
  },
  {
   "cell_type": "code",
   "execution_count": null,
   "id": "4365f852-60eb-445c-9a3b-68617d8e7488",
   "metadata": {},
   "outputs": [],
   "source": [
    "# Most frequently found SARS-CoV-2 lineages\n",
    "# Top 15 most common lineages\n",
    "top_pango = merged_df['pangolin'].value_counts().head(15)\n",
    "\n",
    "plt.figure(figsize=(12, 5))\n",
    "sns.barplot(x=top_pango.index, y=top_pango.values, palette=\"magma\")\n",
    "plt.xticks(rotation=45)\n",
    "plt.title(\"Top 15 SARS-CoV-2 Lineages in Dataset\")\n",
    "plt.xlabel(\"Pango Lineage\")\n",
    "plt.ylabel(\"Count\")\n",
    "plt.show()"
   ]
  },
  {
   "cell_type": "code",
   "execution_count": null,
   "id": "abfa11d5-c568-4b15-96b6-666e7687ab4d",
   "metadata": {},
   "outputs": [],
   "source": [
    "# Most frequently found host species\n",
    "top_hosts = merged_df['host'].value_counts().head(10)\n",
    "\n",
    "plt.figure(figsize=(10, 5))\n",
    "sns.barplot(x=top_hosts.index, y=top_hosts.values, palette=\"viridis\")\n",
    "plt.xticks(rotation=45)\n",
    "plt.title(\"Most Common Host Species for SARS-CoV-2\")\n",
    "plt.xlabel(\"Host Species\")\n",
    "plt.ylabel(\"Count\")\n",
    "plt.show()"
   ]
  },
  {
   "cell_type": "code",
   "execution_count": null,
   "id": "fa9beb7a-ee0f-4b82-98f3-1066a84b1cc8",
   "metadata": {},
   "outputs": [],
   "source": [
    "# Geographic distribution of sequences\n",
    "# Map\n",
    "# First we will need to load the world map data from Natural Earth\n",
    "world = gpd.read_file(\"https://naturalearth.s3.amazonaws.com/110m_cultural/ne_110m_admin_0_countries.zip\")\n",
    "\n",
    "# Count sequences per country\n",
    "country_counts = merged_df['country'].value_counts().reset_index()\n",
    "country_counts.columns = ['country', 'Count']"
   ]
  },
  {
   "cell_type": "code",
   "execution_count": null,
   "id": "2291ec8b-0068-480c-a279-71a493455b30",
   "metadata": {},
   "outputs": [],
   "source": [
    "# Make sure both columns are strings before merging\n",
    "world['NAME'] = world['NAME'].astype(str)\n",
    "country_counts['country'] = country_counts['country'].astype(str)\n",
    "\n",
    "# Merge world map with sequence data\n",
    "world = world.merge(country_counts, left_on=\"NAME\", right_on=\"country\", how=\"left\")\n",
    "\n",
    "# Plot\n",
    "fig, ax = plt.subplots(figsize=(12, 6))\n",
    "world.boundary.plot(ax=ax, linewidth=1, color=\"black\")  # Plot country boundaries\n",
    "world.plot(column='Count', cmap='OrRd', linewidth=0.5, edgecolor='black', legend=True, ax=ax)\n",
    "\n",
    "plt.title(\"Geographic Distribution of SARS-CoV-2 Sequences\")\n",
    "plt.show()"
   ]
  },
  {
   "cell_type": "code",
   "execution_count": null,
   "id": "5df65814-3ff6-4e36-bd37-c1a26e78c6f3",
   "metadata": {},
   "outputs": [],
   "source": [
    "# Relationship between sequence length and pango lineage\n",
    "plt.figure(figsize=(12, 6))\n",
    "sns.boxplot(x=merged_df['pangolin'], y=merged_df['sequence_length'])\n",
    "plt.xticks(rotation=90)\n",
    "plt.title(\"Genome Lengths Across Pango Lineages\")\n",
    "plt.xlabel(\"Pango Lineage\")\n",
    "plt.ylabel(\"Sequence Length\")\n",
    "plt.show()"
   ]
  },
  {
   "cell_type": "code",
   "execution_count": null,
   "id": "0153e3ae-63b2-4c97-987e-98bc61c82cfb",
   "metadata": {},
   "outputs": [],
   "source": [
    "# Lineage evolution over time\n",
    "lineage_over_time = merged_df.groupby(['year', 'pangolin']).size().reset_index(name='count')\n",
    "\n",
    "plt.figure(figsize=(12, 6))\n",
    "sns.lineplot(data=lineage_over_time, x='year', y='count', hue='pangolin', marker='o', legend=None)\n",
    "plt.title(\"SARS-CoV-2 Lineages Over Time\")\n",
    "plt.xlabel(\"Year\")\n",
    "plt.ylabel(\"Number of Sequences\")\n",
    "plt.show()"
   ]
  },
  {
   "cell_type": "code",
   "execution_count": null,
   "id": "66065b3f-5655-4196-9f38-08c95b7042c5",
   "metadata": {},
   "outputs": [],
   "source": [
    "# Sequence completeness vs. length\n",
    "plt.figure(figsize=(8, 5))\n",
    "sns.boxplot(x=merged_df['nuc_completeness'], y=merged_df['sequence_length'])\n",
    "plt.title(\"Genome Lengths by Completeness\")\n",
    "plt.xlabel(\"Nucleotide Completeness\")\n",
    "plt.ylabel(\"Sequence Length\")\n",
    "plt.show()"
   ]
  },
  {
   "cell_type": "code",
   "execution_count": null,
   "id": "1698c9a1-4f14-4168-88fb-5dd861736b67",
   "metadata": {},
   "outputs": [],
   "source": [
    "# Frequency of sampling by country over time\n",
    "plt.figure(figsize=(12, 6))\n",
    "sns.histplot(data=merged_df, x='year', hue='country', multiple=\"stack\", palette=\"tab10\")\n",
    "plt.title(\"Sequence Contributions by Country Over Time\")\n",
    "plt.xlabel(\"Year\")\n",
    "plt.ylabel(\"Number of Sequences\")\n",
    "plt.show()"
   ]
  },
  {
   "cell_type": "code",
   "execution_count": null,
   "id": "aa535cf6-c2ca-4fbf-93b8-3f916c1e3112",
   "metadata": {},
   "outputs": [],
   "source": [
    "# Sequence length distribution by country\n",
    "plt.figure(figsize=(12, 6))\n",
    "sns.boxplot(x=merged_df['country'], y=merged_df['sequence_length'])\n",
    "plt.xticks(rotation=90)\n",
    "plt.title(\"Genome Lengths Across Countries\")\n",
    "plt.xlabel(\"Country\")\n",
    "plt.ylabel(\"Sequence Length\")\n",
    "plt.show()"
   ]
  }
 ],
 "metadata": {
  "kernelspec": {
   "display_name": "Python 3 (ipykernel)",
   "language": "python",
   "name": "python3"
  },
  "language_info": {
   "codemirror_mode": {
    "name": "ipython",
    "version": 3
   },
   "file_extension": ".py",
   "mimetype": "text/x-python",
   "name": "python",
   "nbconvert_exporter": "python",
   "pygments_lexer": "ipython3",
   "version": "3.11.11"
  }
 },
 "nbformat": 4,
 "nbformat_minor": 5
}
