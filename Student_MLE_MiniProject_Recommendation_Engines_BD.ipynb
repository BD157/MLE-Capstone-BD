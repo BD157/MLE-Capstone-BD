{
  "nbformat": 4,
  "nbformat_minor": 0,
  "metadata": {
    "colab": {
      "provenance": [],
      "include_colab_link": true
    },
    "kernelspec": {
      "name": "python3",
      "display_name": "Python 3"
    },
    "language_info": {
      "name": "python"
    }
  },
  "cells": [
    {
      "cell_type": "markdown",
      "metadata": {
        "id": "view-in-github",
        "colab_type": "text"
      },
      "source": [
        "<a href=\"https://colab.research.google.com/github/BD157/MLE-Capstone-BD/blob/main/Student_MLE_MiniProject_Recommendation_Engines_BD.ipynb\" target=\"_parent\"><img src=\"https://colab.research.google.com/assets/colab-badge.svg\" alt=\"Open In Colab\"/></a>"
      ]
    },
    {
      "cell_type": "markdown",
      "source": [
        "# Mini Project: Recommendation Engines\n",
        "\n",
        "Recommendation engines are algorithms designed to provide personalized suggestions or recommendations to users. These systems analyze user behavior, preferences, and interactions with items (products, movies, music, articles, etc.) to predict and offer items that users are likely to be interested in. Recommendation engines play a crucial role in enhancing user experience, driving engagement, and increasing conversion rates in various applications, including e-commerce, entertainment, content platforms, and more.\n",
        "\n",
        "There are generally two approaches taken in collaborative filtering and content-based recommendation engines:\n",
        "\n",
        "**1. Collaborative Filtering:**\n",
        "Collaborative Filtering is a popular approach to building recommendation systems that leverages the collective behavior of users to make personalized recommendations. It is based on the idea that users who have agreed in the past will likely agree in the future. There are two main types of collaborative filtering:\n",
        "\n",
        "- **User-based Collaborative Filtering:** This method finds users similar to the target user based on their past interactions (e.g., ratings or purchases). It then recommends items that similar users have liked but the target user has not interacted with yet.\n",
        "\n",
        "- **Item-based Collaborative Filtering:** In this approach, the system identifies similar items based on user interactions. It recommends items that are similar to the ones the target user has already liked or interacted with.\n",
        "\n",
        "Collaborative filtering does not require any explicit information about items but relies on the similarity between users or items. It is effective in capturing complex patterns and can provide serendipitous recommendations. However, it suffers from the cold-start problem (i.e., difficulty in recommending to new users or items with no interactions) and scalability challenges in large datasets.\n",
        "\n",
        "**2. Content-Based Recommendation:**\n",
        "Content-based recommendation is an alternative approach to building recommendation systems that focuses on the attributes or features of items and users. It leverages the characteristics of items to make recommendations. The key steps involved in content-based recommendation are:\n",
        "\n",
        "- **Feature Extraction:** For each item, relevant features are extracted. For movies, these features could be genre, director, actors, and plot summary.\n",
        "\n",
        "- **User Profile:** A user profile is created based on the items they have interacted with in the past. The user profile contains the weighted importance of features based on their interactions.\n",
        "\n",
        "- **Similarity Calculation:** The similarity between items or between items and the user profile is calculated using similarity metrics like cosine similarity or Euclidean distance.\n",
        "\n",
        "- **Recommendation:** Items that are most similar to the user profile are recommended to the user.\n",
        "\n",
        "Content-based recommendation systems are less affected by the cold-start problem as they can still recommend items based on their features. They are also more interpretable as they rely on item attributes. However, they may miss out on providing serendipitous recommendations and can be limited by the quality of feature extraction and user profiles.\n",
        "\n",
        "**Choosing Between Collaborative Filtering and Content-Based:**\n",
        "Both collaborative filtering and content-based approaches have their strengths and weaknesses. The choice between them depends on the specific requirements of the recommendation system, the type of data available, and the user base. Hybrid approaches that combine collaborative filtering and content-based techniques are also common, aiming to leverage the strengths of both methods and mitigate their weaknesses."
      ],
      "metadata": {
        "id": "fyXucUekO19i"
      }
    },
    {
      "cell_type": "markdown",
      "source": [
        "In this mini-project, you'll be building both content based and collaborative filtering engines for the [MovieLens 25M dataset](https://grouplens.org/datasets/movielens/25m/). The MovieLens 25M dataset is one of the most widely used and popular datasets for building and evaluating recommendation systems. It is provided by the GroupLens Research project, which collects and studies datasets related to movie ratings and recommendations. The MovieLens 25M dataset contains movie ratings and other related information contributed by users of the MovieLens website.\n",
        "\n",
        "**Dataset Details:**\n",
        "- **Size:** The dataset contains approximately 25 million movie ratings.\n",
        "- **Users:** It includes ratings from over 162,000 users.\n",
        "- **Movies:** The dataset consists of ratings for more than 62,000 movies.\n",
        "- **Ratings:** The ratings are provided on a scale of 1 to 5, where 1 is the lowest rating and 5 is the highest.\n",
        "- **Timestamps:** Each rating is associated with a timestamp, indicating when the rating was given.\n",
        "\n",
        "**Data Files:**\n",
        "The dataset is usually split into three CSV files:\n",
        "\n",
        "1. **movies.csv:** Contains information about movies, including the movie ID, title, genres, and release year.\n",
        "   - Columns: movieId, title, genres\n",
        "\n",
        "2. **ratings.csv:** Contains movie ratings provided by users, including the user ID, movie ID, rating, and timestamp.\n",
        "   - Columns: userId, movieId, rating, timestamp\n",
        "\n",
        "3. **tags.csv:** Contains user-generated tags for movies, including the user ID, movie ID, tag, and timestamp.\n",
        "   - Columns: userId, movieId, tag, timestamp"
      ],
      "metadata": {
        "id": "TYuE9O6I2uRY"
      }
    },
    {
      "cell_type": "markdown",
      "source": [
        "First, import all the libraries you'll need."
      ],
      "metadata": {
        "id": "DN0qzP-cRlMo"
      }
    },
    {
      "cell_type": "code",
      "execution_count": 2,
      "metadata": {
        "id": "kLWR1DfQPakn"
      },
      "outputs": [],
      "source": [
        "import zipfile\n",
        "import numpy as np\n",
        "import pandas as pd\n",
        "from urllib.request import urlretrieve\n",
        "from sklearn.feature_extraction.text import TfidfVectorizer\n",
        "from sklearn.metrics.pairwise import cosine_similarity"
      ]
    },
    {
      "cell_type": "markdown",
      "source": [
        "Next, download the relevant components of the MoveLens dataset. Note, these instructions are roughly based on the colab [here](https://colab.research.google.com/github/google/eng-edu/blob/main/ml/recommendation-systems/recommendation-systems.ipynb?utm_source=ss-recommendation-systems&utm_campaign=colab-external&utm_medium=referral&utm_content=recommendation-systems#scrollTo=O3bcgduFo4s6)."
      ],
      "metadata": {
        "id": "iaG6vAKyREej"
      }
    },
    {
      "cell_type": "code",
      "source": [
        "print(\"Downloading movielens data...\")\n",
        "\n",
        "urlretrieve('http://files.grouplens.org/datasets/movielens/ml-100k.zip', 'movielens.zip')\n",
        "zip_ref = zipfile.ZipFile('movielens.zip', 'r')\n",
        "zip_ref.extractall()\n",
        "print(\"Done. Dataset contains:\")\n",
        "print(zip_ref.read('ml-100k/u.info'))\n",
        "\n",
        "ratings_cols = ['user_id', 'movie_id', 'rating', 'unix_timestamp']\n",
        "ratings = pd.read_csv(\n",
        "    'ml-100k/u.data', sep='\\t', names=ratings_cols, encoding='latin-1')\n",
        "\n",
        "# The movies file contains a binary feature for each genre.\n",
        "genre_cols = [\n",
        "    \"genre_unknown\", \"Action\", \"Adventure\", \"Animation\", \"Children\", \"Comedy\",\n",
        "    \"Crime\", \"Documentary\", \"Drama\", \"Fantasy\", \"Film-Noir\", \"Horror\",\n",
        "    \"Musical\", \"Mystery\", \"Romance\", \"Sci-Fi\", \"Thriller\", \"War\", \"Western\"\n",
        "]\n",
        "movies_cols = [\n",
        "    'movie_id', 'title', 'release_date', \"video_release_date\", \"imdb_url\"\n",
        "] + genre_cols\n",
        "movies = pd.read_csv(\n",
        "    'ml-100k/u.item', sep='|', names=movies_cols, encoding='latin-1')"
      ],
      "metadata": {
        "id": "-wCvx2ukPm-3",
        "colab": {
          "base_uri": "https://localhost:8080/"
        },
        "outputId": "5e8e7dcc-d23a-4b94-e986-1a32d501432b"
      },
      "execution_count": 3,
      "outputs": [
        {
          "output_type": "stream",
          "name": "stdout",
          "text": [
            "Downloading movielens data...\n",
            "Done. Dataset contains:\n",
            "b'943 users\\n1682 items\\n100000 ratings\\n'\n"
          ]
        }
      ]
    },
    {
      "cell_type": "markdown",
      "source": [
        "Before doing any kind of machine learning, it's always good to familiarize yourself with the datasets you'lll be working with.\n",
        "\n",
        "Here are your tasks:\n",
        "\n",
        "1. Spend some time familiarizing yourself with both the `movies` and `ratings` dataframes. How many unique user ids are present? How many unique movies are there?\n",
        "2. Create a new dataframe that merges the `movies` and `ratings` tables on 'movie_id'. Only keep the 'user_id', 'title', 'rating' fields in this new dataframe."
      ],
      "metadata": {
        "id": "pLAMVhnbR-Cy"
      }
    },
    {
      "cell_type": "code",
      "source": [
        "# Spend some time familiarizing yourself with both the movies and ratings\n",
        "# dataframes. How many unique user ids are present? How many unique movies\n",
        "# are there?\n",
        "\n",
        "# Number of unique users\n",
        "# We calculate this by counting the number of unique values in the user_id column\n",
        "num_unique_users = ratings['user_id'].nunique()\n",
        "print(f\"Number of unique users: {num_unique_users}\")\n",
        "\n",
        "# Number of unique movies\n",
        "# We calculate this by counting the number of unique values in the movie_id column\n",
        "num_unique_movies = movies['movie_id'].nunique()\n",
        "print(f\"Number of unique movies: {num_unique_movies}\")"
      ],
      "metadata": {
        "id": "vp7Tx7H_P5f2",
        "colab": {
          "base_uri": "https://localhost:8080/"
        },
        "outputId": "ce4d071a-380e-4397-a062-ff43ecd3fca7"
      },
      "execution_count": 4,
      "outputs": [
        {
          "output_type": "stream",
          "name": "stdout",
          "text": [
            "Number of unique users: 943\n",
            "Number of unique movies: 1682\n"
          ]
        }
      ]
    },
    {
      "cell_type": "code",
      "source": [
        "# Merge movies and ratings dataframes\n",
        "# Before merging the dataset we look at the contents and the structure of both\n",
        "# datasets that need to be merged, that is the ratings and the movies datasets.\n",
        "# Ratings dataset\n",
        "print(\"Ratings Dataset:\")\n",
        "print(\"Column Names:\", ratings.columns.tolist())\n",
        "print(\"Number of Rows and Columns:\", ratings.shape)\n",
        "\n",
        "# Movies dataset\n",
        "print(\"\\nMovies Dataset:\")\n",
        "print(\"Column Names:\", movies.columns.tolist())\n",
        "print(\"Number of Rows and Columns:\", movies.shape)"
      ],
      "metadata": {
        "id": "f6MrymMJRMjB",
        "colab": {
          "base_uri": "https://localhost:8080/"
        },
        "outputId": "17313c06-9c0d-44cd-c2f9-e94af6c2d095"
      },
      "execution_count": 5,
      "outputs": [
        {
          "output_type": "stream",
          "name": "stdout",
          "text": [
            "Ratings Dataset:\n",
            "Column Names: ['user_id', 'movie_id', 'rating', 'unix_timestamp']\n",
            "Number of Rows and Columns: (100000, 4)\n",
            "\n",
            "Movies Dataset:\n",
            "Column Names: ['movie_id', 'title', 'release_date', 'video_release_date', 'imdb_url', 'genre_unknown', 'Action', 'Adventure', 'Animation', 'Children', 'Comedy', 'Crime', 'Documentary', 'Drama', 'Fantasy', 'Film-Noir', 'Horror', 'Musical', 'Mystery', 'Romance', 'Sci-Fi', 'Thriller', 'War', 'Western']\n",
            "Number of Rows and Columns: (1682, 24)\n"
          ]
        }
      ]
    },
    {
      "cell_type": "code",
      "source": [
        "# The two datasets can be merged based on the 'movie_id' as it is the key variable\n",
        "merged_df = pd.merge(ratings, movies, on='movie_id')\n",
        "\n",
        "# Display the first few rows of the merged dataset\n",
        "print(merged_df.head())\n",
        "\n",
        "# Print the following to make sure it was merged successfully.\n",
        "# Merged dataset\n",
        "print(\"\\nMovies Dataset:\")\n",
        "print(\"Column Names:\", merged_df.columns.tolist())\n",
        "print(\"Number of Rows and Columns:\", merged_df.shape)"
      ],
      "metadata": {
        "colab": {
          "base_uri": "https://localhost:8080/"
        },
        "id": "PFnCqQNbW9gy",
        "outputId": "2702bfa4-6cc8-40a7-81b6-61b2da8ff56d"
      },
      "execution_count": 6,
      "outputs": [
        {
          "output_type": "stream",
          "name": "stdout",
          "text": [
            "   user_id  movie_id  rating  unix_timestamp                       title  \\\n",
            "0      196       242       3       881250949                Kolya (1996)   \n",
            "1      186       302       3       891717742    L.A. Confidential (1997)   \n",
            "2       22       377       1       878887116         Heavyweights (1994)   \n",
            "3      244        51       2       880606923  Legends of the Fall (1994)   \n",
            "4      166       346       1       886397596         Jackie Brown (1997)   \n",
            "\n",
            "  release_date  video_release_date  \\\n",
            "0  24-Jan-1997                 NaN   \n",
            "1  01-Jan-1997                 NaN   \n",
            "2  01-Jan-1994                 NaN   \n",
            "3  01-Jan-1994                 NaN   \n",
            "4  01-Jan-1997                 NaN   \n",
            "\n",
            "                                            imdb_url  genre_unknown  Action  \\\n",
            "0    http://us.imdb.com/M/title-exact?Kolya%20(1996)              0       0   \n",
            "1  http://us.imdb.com/M/title-exact?L%2EA%2E+Conf...              0       0   \n",
            "2  http://us.imdb.com/M/title-exact?Heavyweights%...              0       0   \n",
            "3  http://us.imdb.com/M/title-exact?Legends%20of%...              0       0   \n",
            "4  http://us.imdb.com/M/title-exact?imdb-title-11...              0       0   \n",
            "\n",
            "   ...  Fantasy  Film-Noir  Horror  Musical  Mystery  Romance  Sci-Fi  \\\n",
            "0  ...        0          0       0        0        0        0       0   \n",
            "1  ...        0          1       0        0        1        0       0   \n",
            "2  ...        0          0       0        0        0        0       0   \n",
            "3  ...        0          0       0        0        0        1       0   \n",
            "4  ...        0          0       0        0        0        0       0   \n",
            "\n",
            "   Thriller  War  Western  \n",
            "0         0    0        0  \n",
            "1         1    0        0  \n",
            "2         0    0        0  \n",
            "3         0    1        1  \n",
            "4         0    0        0  \n",
            "\n",
            "[5 rows x 27 columns]\n",
            "\n",
            "Movies Dataset:\n",
            "Column Names: ['user_id', 'movie_id', 'rating', 'unix_timestamp', 'title', 'release_date', 'video_release_date', 'imdb_url', 'genre_unknown', 'Action', 'Adventure', 'Animation', 'Children', 'Comedy', 'Crime', 'Documentary', 'Drama', 'Fantasy', 'Film-Noir', 'Horror', 'Musical', 'Mystery', 'Romance', 'Sci-Fi', 'Thriller', 'War', 'Western']\n",
            "Number of Rows and Columns: (100000, 27)\n"
          ]
        }
      ]
    },
    {
      "cell_type": "code",
      "source": [
        "# List all unique user_ids in the merged_df\n",
        "unique_user_ids = merged_df['user_id'].unique()\n",
        "print(unique_user_ids)"
      ],
      "metadata": {
        "colab": {
          "base_uri": "https://localhost:8080/"
        },
        "id": "HjUmCinCn8cx",
        "outputId": "33d5a837-f27e-49cd-a5ad-0f41e67aa59f"
      },
      "execution_count": 9,
      "outputs": [
        {
          "output_type": "stream",
          "name": "stdout",
          "text": [
            "[196 186  22 244 166 298 115 253 305   6  62 286 200 210 224 303 122 194\n",
            " 291 234 119 167 299 308  95  38 102  63 160  50 301 225 290  97 157 181\n",
            " 278 276   7  10 284 201 287 246 242 249  99 178 251  81 260  25  59  72\n",
            "  87  42 292  20  13 138  60  57 223 189 243  92 241 254 293 127 222 267\n",
            "  11   8 162 279 145  28 135  32  90 216 250 271 265 198 168 110  58 237\n",
            "  94 128  44 264  41  82 262 174  43  84 269 259  85 213 121  49 155  68\n",
            " 172  19 268   5  80  66  18  26 130 256   1  56  15 207 232  52 161 148\n",
            " 125  83 272 151  54  16  91 294 229  36  70  14 295 233 214 192 100 307\n",
            " 297 193 113 275 219 218 123 158 302  23 296  33 154  77 270 187 170 101\n",
            " 184 112 133 215  69 104 240 144 191  61 142 177 203  21 197 134 180 236\n",
            " 263 109  64 114 239 117  65 137 257 111 285  96 116  73 221 235 164 281\n",
            " 182 129  45 131 230 126 231 280 288 152 217  79  75 245 282  78 118 283\n",
            " 171 107 226 306 173 185 150 274 188  48 311 165 208   2 205 248  93 159\n",
            " 146  29 156  37 141 195 108  47 255  89 140 190  24  17 313  53 124 149\n",
            " 176 106 312 175 153 220 143 199 202 277 206  76 314 136 179   4 304   3\n",
            " 227 252 212 310  35 147 105  34  71  51 204 315  31 316 103 318  30 120\n",
            "  46 289 209 261  88   9 247 321 266  74 238 319 323  67 211  98  12  40\n",
            " 258 228 325 320 326 327 183 328 322 330  27 331 332 329  86 139 300 163\n",
            " 333 334  39 324 132 336 335 169 338 339 309 342 340 317 341 343 344 345\n",
            " 346 347 273  55 349 348 354 351 358 352 360 363 355 362 357 356 361 365\n",
            " 350 367 368 371 373 370 374 372 337 378 366 377 375 359 379 380 381 385\n",
            " 382 387 364 369 388 386 389 383 390 393 392 376 394 391 398 397 399 396\n",
            " 401 402 384 395 353 403 405 400 406 407 409 404 413 416 408 410 411 417\n",
            " 412 420 422 425 419 415 423 429 428 427 418 424 432 421 435 433 426 436\n",
            " 430 434 437 438 431 442 440 445 447 449 450 446 439 451 452 454 453 414\n",
            " 455 444 448 457 456 458 462 459 460 461 467 468 466 472 465 463 471 474\n",
            " 469 464 476 478 473 470 480 441 479 484 486 487 482 481 492 493 490 489\n",
            " 483 496 494 495 477 497 488 498 499 491 500 502 503 504 505 506 443 507\n",
            " 514 508 511 515 512 513 475 523 518 509 516 510 524 501 525 521 520 519\n",
            " 528 532 530 531 529 517 527 485 533 535 536 526 537 534 541 538 542 545\n",
            " 539 547 543 548 546 522 551 544 553 552 540 554 550 556 559 560 561 563\n",
            " 566 557 558 564 565 573 549 567 569 562 576 577 579 574 555 572 575 584\n",
            " 588 587 568 586 585 582 591 581 592 580 590 593 583 596 570 599 589 594\n",
            " 597 578 601 602 600 605 603 595 606 608 607 610 611 617 618 614 609 615\n",
            " 616 620 571 619 613 622 621 604 624 612 627 623 628 625 629 633 632 631\n",
            " 634 639 630 642 637 640 626 643 598 638 635 644 636 645 648 647 650 651\n",
            " 654 653 655 649 658 656 660 659 646 663 664 657 665 666 661 662 667 641\n",
            " 668 673 671 669 676 674 652 677 682 679 684 685 683 691 672 692 690 689\n",
            " 686 693 688 697 698 670 694 680 705 701 699 704 707 700 687 695 675 708\n",
            " 709 711 710 712 715 713 716 681 678 719 702 721 714 717 718 696 722 724\n",
            " 727 725 706 720 729 726 728 703 738 736 734 730 743 742 737 733 745 740\n",
            " 735 747 723 739 749 748 746 731 750 741 751 756 757 752 758 732 762 744\n",
            " 754 753 763 764 767 769 755 771 768 773 765 772 766 774 760 761 777 759\n",
            " 776 780 779 778 782 786 784 770 788 789 790 787 783 785 794 781 796 795\n",
            " 793 798 791 802 800 804 803 775 792 799 805 806 807 797 801 809 815 817\n",
            " 821 818 814 812 823 825 827 829 811 830 826 831 819 828 808 835 833 836\n",
            " 816 838 839 840 832 810 844 843 834 846 837 813 842 847 848 822 852 851\n",
            " 849 854 850 858 853 855 824 845 841 859 862 856 820 863 860 857 864 865\n",
            " 868 867 861 870 871 875 876 872 866 877 873 880 878 869 881 879 883 882\n",
            " 884 886 885 889 874 892 890 893 887 891 894 896 897 901 899 903 904 907\n",
            " 905 902 898 895 906 900 908 916 911 912 914 918 919 921 910 913 915 922\n",
            " 923 928 927 924 929 931 917 932 909 934 933 935 938 940 888 925 942 937\n",
            " 926 943 939 936 930 920 941]\n"
          ]
        }
      ]
    },
    {
      "cell_type": "markdown",
      "source": [
        "As mentioned in the introduction, content-Based Filtering is a recommendation engine approach that focuses on the attributes or features of items (products, movies, music, articles, etc.) and leverages these features to make personalized recommendations. The underlying idea is to match the characteristics of items with the preferences of users to suggest items that align with their interests. Content-based filtering is particularly useful when explicit user-item interactions (e.g., ratings or purchases) are sparse or unavailable.\n",
        "\n",
        "**Key Steps in Content-Based Filtering:**\n",
        "\n",
        "1. **Feature Extraction:**\n",
        "   - For each item, relevant features are extracted. These features are typically descriptive attributes that can be represented numerically, such as genre, director, actors, author, publication date, and keywords.\n",
        "   - In the case of text-based items, natural language processing techniques may be used to extract features like TF-IDF (Term Frequency-Inverse Document Frequency) scores.\n",
        "\n",
        "2. **User Profile Creation:**\n",
        "   - A user profile is created based on the items they have interacted with in the past. The user profile contains the weighted importance of features based on their interactions.\n",
        "   - For example, if a user has watched several action movies, the action genre feature would receive a higher weight in their profile.\n",
        "\n",
        "3. **Similarity Calculation:**\n",
        "   - The similarity between items or between items and the user profile is calculated using similarity metrics like cosine similarity, Euclidean distance, or Pearson correlation.\n",
        "   - Cosine similarity is commonly used as it measures the cosine of the angle between two vectors, which represents their similarity.\n",
        "\n",
        "4. **Recommendation:**\n",
        "   - Items that are most similar to the user profile are recommended to the user. These are items whose features have the highest similarity scores with the user profile.\n",
        "   - The recommended items are presented as a list sorted by their similarity scores.\n",
        "\n",
        "**Advantages of Content-Based Filtering:**\n",
        "1. **No Cold-Start Problem:** Content-based filtering can make recommendations even for new users with no historical interactions because it relies on item features rather than user history.\n",
        "\n",
        "2. **User Independence:** The recommendations are based solely on the features of items and do not require knowledge of other users' preferences or behavior.\n",
        "\n",
        "3. **Transparency:** Content-based recommendations are interpretable, as they depend on the features of items, making it easier for users to understand why specific items are recommended.\n",
        "\n",
        "4. **Serendipity:** Content-based filtering can recommend items with characteristics not seen before by the user, leading to serendipitous discoveries.\n",
        "\n",
        "5. **Diversity in Recommendations:** The method can offer diverse recommendations since it suggests items with different feature combinations.\n",
        "\n",
        "**Limitations of Content-Based Filtering:**\n",
        "1. **Limited Discovery:** Content-based filtering may struggle to recommend items outside the scope of users' historical interactions or interests.\n",
        "\n",
        "2. **Over-Specialization:** Users may receive recommendations that are too similar to their previous choices, leading to a lack of exposure to new item categories.\n",
        "\n",
        "3. **Dependency on Feature Quality:** The quality and relevance of item features significantly influence the quality of recommendations.\n",
        "\n",
        "4. **Limited for Cold Items:** Content-based filtering can struggle to recommend new items with limited feature information."
      ],
      "metadata": {
        "id": "_U44W0TMT3qf"
      }
    },
    {
      "cell_type": "markdown",
      "source": [
        "Here is your task:\n",
        "\n",
        "1. Write a function that takes in a user id and the dataframe you created before that contains 'user_id', 'title', and 'rating'. The function should return content-based recommendations for this user. Here are steps you can take:\n",
        "\n",
        "  A. Get the user's rated movies\n",
        "\n",
        "  B. Create a TF-IDF matrix using movie genres. Note, this can be extracted from the `movies` dataframe.\n",
        "\n",
        "  C. Compute the cosine similarity between movie genres. Use the [cosine_similarity](https://scikit-learn.org/stable/modules/generated/sklearn.metrics.pairwise.cosine_similarity.html) function.\n",
        "\n",
        "  D. Get the indices of similar movies to those rated by the user based on cosine similarity. Keep only the top 5.\n",
        "\n",
        "  E. Remove duplicates and movies already rated by the user."
      ],
      "metadata": {
        "id": "sbJGD7j7Ui-8"
      }
    },
    {
      "cell_type": "code",
      "source": [
        "# Content-Based Filtering using Movie Genres\n",
        "def content_based_recommendation(user_id, merged_df):\n",
        "    # Get the user's rated movies\n",
        "    # First filter the merged dataset to get all rows where the 'user_id' column\n",
        "    # supplied as the input to the function\n",
        "    # Extract all the movies rated by that user and store them in a list called rated_movie_ids\n",
        "    user_ratings = merged_df[merged_df['user_id'] == user_id]\n",
        "    rated_movie_ids = user_ratings['movie_id'].tolist()\n",
        "\n",
        "    # Create a TF-IDF matrix using movie genres\n",
        "    # First, combine the movie genres into a single description for each movie\n",
        "    # This is done by joining all genres with a value of 1 (e.g., Action, Comedy) into a space-separated string\n",
        "    # Then, convert these genre descriptions into numerical representations using the TF-IDF method\n",
        "    genre_columns = [\n",
        "        \"genre_unknown\", \"Action\", \"Adventure\", \"Animation\", \"Children\", \"Comedy\",\n",
        "        \"Crime\", \"Documentary\", \"Drama\", \"Fantasy\", \"Film-Noir\", \"Horror\",\n",
        "        \"Musical\", \"Mystery\", \"Romance\", \"Sci-Fi\", \"Thriller\", \"War\", \"Western\"\n",
        "    ]\n",
        "    # To do this, we create a new column 'genres' in the dataset by applying a lambda function across all rows\n",
        "    # This function concatenates the genre names with a value of 1 into a single string for each movie.\n",
        "    # Create a new column called genre containing this string.\n",
        "    merged_df['genres'] = merged_df[genre_columns].apply(lambda row: ' '.join([genre for genre, val in row.items() if val == 1]), axis=1)\n",
        "\n",
        "    # Use TF-IDF Vectorizer on the 'genres' column\n",
        "    # Use TfidfVectorizer from scikit-learn\n",
        "    # Convert the genres column into a TF-IDF matrix, which assigns weights to\n",
        "    # words (genres) based on their frequency in the dataset and how unique\n",
        "    # they are across the dataset.\n",
        "    # stop_words='english' ensures common words are ignored during vectorization.\n",
        "    tfidf_vectorizer = TfidfVectorizer(stop_words='english')\n",
        "    tfidf_matrix = tfidf_vectorizer.fit_transform(merged_df['genres'])\n",
        "\n",
        "    # Compute the cosine similarity between movie genres\n",
        "    # Now we use cosine similarity to measure how similar two movies are based on\n",
        "    # their genre descriptions.\n",
        "    # This will help in recommending movies that are very much like the ones a user has already rated.\n",
        "    # Cosine similarity measures how similar two vectors are, ranging from -1 (completely dissimilar)\n",
        "    # to 1 (completely similar).\n",
        "    # The resulting matrix cosine_sim stores the similarity scores for all pairs of movies.\n",
        "    cosine_sim = cosine_similarity(tfidf_matrix, tfidf_matrix)\n",
        "\n",
        "    # Get the indices of the similar movies based on cosine similarity\n",
        "    recommendations = {}\n",
        "\n",
        "    # Find top 5 most similar movies based on cosine similarity\n",
        "    # Using a for loop,\n",
        "    # Loop through each movie that the user has rated, rated_movie_ids.\n",
        "    # For each movie find the index of that movie in the data, movie_index.\n",
        "    # Look up the similarity scores of that movie to all other movies\n",
        "    # from the cosine_sim matrix and sort them in descending order.\n",
        "    # Select the top 5 similar movies not the movie itself and\n",
        "    # for each similar movie store the movie title and similarity score\n",
        "    # in the recommendations dictionary.\n",
        "\n",
        "    for movie_id in rated_movie_ids:\n",
        "        movie_index = merged_df[merged_df['movie_id'] == movie_id].index[0]\n",
        "        similar_movies = list(enumerate(cosine_sim[movie_index]))\n",
        "\n",
        "        # Sort the movies based on cosine similarity and get the top 5 (not including the movie itself)\n",
        "        similar_movies = sorted(similar_movies, key=lambda x: x[1], reverse=True)[1:6]\n",
        "\n",
        "        for idx, score in similar_movies:\n",
        "            movie_title = merged_df.iloc[idx]['title']\n",
        "            if movie_title not in recommendations:\n",
        "                recommendations[movie_title] = score\n",
        "\n",
        "    # Remove duplicates and movies already rated by the user\n",
        "    # Keep only those movies that the user hasn't rated\n",
        "    recommended_movies = [(movie, score) for movie, score in recommendations.items() if movie not in user_ratings['title'].values]\n",
        "\n",
        "    # Sort in descending order of similarity score\n",
        "    recommended_movies = sorted(recommended_movies, key=lambda x: x[1], reverse=True)\n",
        "\n",
        "    # Return only the top 5 movie recommendations\n",
        "    return recommended_movies[:5]\n",
        "\n",
        "# Example:\n",
        "user_id = 22\n",
        "recommended_movies = content_based_recommendation(user_id, merged_df)\n",
        "\n",
        "print(\"Top 5 content-based movie recommendations:\")\n",
        "for movie, score in recommended_movies:\n",
        "    print(f\"{movie} - Similarity Score: {score}\")"
      ],
      "metadata": {
        "id": "G6sj1T8EcNRu",
        "colab": {
          "base_uri": "https://localhost:8080/",
          "height": 365
        },
        "outputId": "2f67b01f-9d44-44ac-9c2b-5b3702181fc2"
      },
      "execution_count": 8,
      "outputs": [
        {
          "output_type": "error",
          "ename": "KeyboardInterrupt",
          "evalue": "",
          "traceback": [
            "\u001b[0;31m---------------------------------------------------------------------------\u001b[0m",
            "\u001b[0;31mKeyboardInterrupt\u001b[0m                         Traceback (most recent call last)",
            "\u001b[0;32m<ipython-input-8-3a693dfc5681>\u001b[0m in \u001b[0;36m<cell line: 0>\u001b[0;34m()\u001b[0m\n\u001b[1;32m     77\u001b[0m \u001b[0;31m# Example:\u001b[0m\u001b[0;34m\u001b[0m\u001b[0;34m\u001b[0m\u001b[0m\n\u001b[1;32m     78\u001b[0m \u001b[0muser_id\u001b[0m \u001b[0;34m=\u001b[0m \u001b[0;36m22\u001b[0m\u001b[0;34m\u001b[0m\u001b[0;34m\u001b[0m\u001b[0m\n\u001b[0;32m---> 79\u001b[0;31m \u001b[0mrecommended_movies\u001b[0m \u001b[0;34m=\u001b[0m \u001b[0mcontent_based_recommendation\u001b[0m\u001b[0;34m(\u001b[0m\u001b[0muser_id\u001b[0m\u001b[0;34m,\u001b[0m \u001b[0mmerged_df\u001b[0m\u001b[0;34m)\u001b[0m\u001b[0;34m\u001b[0m\u001b[0;34m\u001b[0m\u001b[0m\n\u001b[0m\u001b[1;32m     80\u001b[0m \u001b[0;34m\u001b[0m\u001b[0m\n\u001b[1;32m     81\u001b[0m \u001b[0mprint\u001b[0m\u001b[0;34m(\u001b[0m\u001b[0;34m\"Top 5 content-based movie recommendations:\"\u001b[0m\u001b[0;34m)\u001b[0m\u001b[0;34m\u001b[0m\u001b[0;34m\u001b[0m\u001b[0m\n",
            "\u001b[0;32m<ipython-input-8-3a693dfc5681>\u001b[0m in \u001b[0;36mcontent_based_recommendation\u001b[0;34m(user_id, merged_df)\u001b[0m\n\u001b[1;32m     38\u001b[0m     \u001b[0;31m# to 1 (completely similar).\u001b[0m\u001b[0;34m\u001b[0m\u001b[0;34m\u001b[0m\u001b[0m\n\u001b[1;32m     39\u001b[0m     \u001b[0;31m# The resulting matrix cosine_sim stores the similarity scores for all pairs of movies.\u001b[0m\u001b[0;34m\u001b[0m\u001b[0;34m\u001b[0m\u001b[0m\n\u001b[0;32m---> 40\u001b[0;31m     \u001b[0mcosine_sim\u001b[0m \u001b[0;34m=\u001b[0m \u001b[0mcosine_similarity\u001b[0m\u001b[0;34m(\u001b[0m\u001b[0mtfidf_matrix\u001b[0m\u001b[0;34m,\u001b[0m \u001b[0mtfidf_matrix\u001b[0m\u001b[0;34m)\u001b[0m\u001b[0;34m\u001b[0m\u001b[0;34m\u001b[0m\u001b[0m\n\u001b[0m\u001b[1;32m     41\u001b[0m \u001b[0;34m\u001b[0m\u001b[0m\n\u001b[1;32m     42\u001b[0m     \u001b[0;31m# Get the indices of the similar movies based on cosine similarity\u001b[0m\u001b[0;34m\u001b[0m\u001b[0;34m\u001b[0m\u001b[0m\n",
            "\u001b[0;32m/usr/local/lib/python3.11/dist-packages/sklearn/utils/_param_validation.py\u001b[0m in \u001b[0;36mwrapper\u001b[0;34m(*args, **kwargs)\u001b[0m\n\u001b[1;32m    214\u001b[0m                     )\n\u001b[1;32m    215\u001b[0m                 ):\n\u001b[0;32m--> 216\u001b[0;31m                     \u001b[0;32mreturn\u001b[0m \u001b[0mfunc\u001b[0m\u001b[0;34m(\u001b[0m\u001b[0;34m*\u001b[0m\u001b[0margs\u001b[0m\u001b[0;34m,\u001b[0m \u001b[0;34m**\u001b[0m\u001b[0mkwargs\u001b[0m\u001b[0;34m)\u001b[0m\u001b[0;34m\u001b[0m\u001b[0;34m\u001b[0m\u001b[0m\n\u001b[0m\u001b[1;32m    217\u001b[0m             \u001b[0;32mexcept\u001b[0m \u001b[0mInvalidParameterError\u001b[0m \u001b[0;32mas\u001b[0m \u001b[0me\u001b[0m\u001b[0;34m:\u001b[0m\u001b[0;34m\u001b[0m\u001b[0;34m\u001b[0m\u001b[0m\n\u001b[1;32m    218\u001b[0m                 \u001b[0;31m# When the function is just a wrapper around an estimator, we allow\u001b[0m\u001b[0;34m\u001b[0m\u001b[0;34m\u001b[0m\u001b[0m\n",
            "\u001b[0;32m/usr/local/lib/python3.11/dist-packages/sklearn/metrics/pairwise.py\u001b[0m in \u001b[0;36mcosine_similarity\u001b[0;34m(X, Y, dense_output)\u001b[0m\n\u001b[1;32m   1747\u001b[0m         \u001b[0mY_normalized\u001b[0m \u001b[0;34m=\u001b[0m \u001b[0mnormalize\u001b[0m\u001b[0;34m(\u001b[0m\u001b[0mY\u001b[0m\u001b[0;34m,\u001b[0m \u001b[0mcopy\u001b[0m\u001b[0;34m=\u001b[0m\u001b[0;32mTrue\u001b[0m\u001b[0;34m)\u001b[0m\u001b[0;34m\u001b[0m\u001b[0;34m\u001b[0m\u001b[0m\n\u001b[1;32m   1748\u001b[0m \u001b[0;34m\u001b[0m\u001b[0m\n\u001b[0;32m-> 1749\u001b[0;31m     \u001b[0mK\u001b[0m \u001b[0;34m=\u001b[0m \u001b[0msafe_sparse_dot\u001b[0m\u001b[0;34m(\u001b[0m\u001b[0mX_normalized\u001b[0m\u001b[0;34m,\u001b[0m \u001b[0mY_normalized\u001b[0m\u001b[0;34m.\u001b[0m\u001b[0mT\u001b[0m\u001b[0;34m,\u001b[0m \u001b[0mdense_output\u001b[0m\u001b[0;34m=\u001b[0m\u001b[0mdense_output\u001b[0m\u001b[0;34m)\u001b[0m\u001b[0;34m\u001b[0m\u001b[0;34m\u001b[0m\u001b[0m\n\u001b[0m\u001b[1;32m   1750\u001b[0m \u001b[0;34m\u001b[0m\u001b[0m\n\u001b[1;32m   1751\u001b[0m     \u001b[0;32mreturn\u001b[0m \u001b[0mK\u001b[0m\u001b[0;34m\u001b[0m\u001b[0;34m\u001b[0m\u001b[0m\n",
            "\u001b[0;32m/usr/local/lib/python3.11/dist-packages/sklearn/utils/extmath.py\u001b[0m in \u001b[0;36msafe_sparse_dot\u001b[0;34m(a, b, dense_output)\u001b[0m\n\u001b[1;32m    201\u001b[0m             \u001b[0mret\u001b[0m \u001b[0;34m=\u001b[0m \u001b[0mxp\u001b[0m\u001b[0;34m.\u001b[0m\u001b[0mtensordot\u001b[0m\u001b[0;34m(\u001b[0m\u001b[0ma\u001b[0m\u001b[0;34m,\u001b[0m \u001b[0mb\u001b[0m\u001b[0;34m,\u001b[0m \u001b[0maxes\u001b[0m\u001b[0;34m=\u001b[0m\u001b[0;34m[\u001b[0m\u001b[0;34m-\u001b[0m\u001b[0;36m1\u001b[0m\u001b[0;34m,\u001b[0m \u001b[0mb_axis\u001b[0m\u001b[0;34m]\u001b[0m\u001b[0;34m)\u001b[0m\u001b[0;34m\u001b[0m\u001b[0;34m\u001b[0m\u001b[0m\n\u001b[1;32m    202\u001b[0m     \u001b[0;32melse\u001b[0m\u001b[0;34m:\u001b[0m\u001b[0;34m\u001b[0m\u001b[0;34m\u001b[0m\u001b[0m\n\u001b[0;32m--> 203\u001b[0;31m         \u001b[0mret\u001b[0m \u001b[0;34m=\u001b[0m \u001b[0ma\u001b[0m \u001b[0;34m@\u001b[0m \u001b[0mb\u001b[0m\u001b[0;34m\u001b[0m\u001b[0;34m\u001b[0m\u001b[0m\n\u001b[0m\u001b[1;32m    204\u001b[0m \u001b[0;34m\u001b[0m\u001b[0m\n\u001b[1;32m    205\u001b[0m     if (\n",
            "\u001b[0;32m/usr/local/lib/python3.11/dist-packages/scipy/sparse/_base.py\u001b[0m in \u001b[0;36m__matmul__\u001b[0;34m(self, other)\u001b[0m\n\u001b[1;32m    693\u001b[0m             raise ValueError(\"Scalar operands are not allowed, \"\n\u001b[1;32m    694\u001b[0m                              \"use '*' instead\")\n\u001b[0;32m--> 695\u001b[0;31m         \u001b[0;32mreturn\u001b[0m \u001b[0mself\u001b[0m\u001b[0;34m.\u001b[0m\u001b[0m_matmul_dispatch\u001b[0m\u001b[0;34m(\u001b[0m\u001b[0mother\u001b[0m\u001b[0;34m)\u001b[0m\u001b[0;34m\u001b[0m\u001b[0;34m\u001b[0m\u001b[0m\n\u001b[0m\u001b[1;32m    696\u001b[0m \u001b[0;34m\u001b[0m\u001b[0m\n\u001b[1;32m    697\u001b[0m     \u001b[0;32mdef\u001b[0m \u001b[0m__rmatmul__\u001b[0m\u001b[0;34m(\u001b[0m\u001b[0mself\u001b[0m\u001b[0;34m,\u001b[0m \u001b[0mother\u001b[0m\u001b[0;34m)\u001b[0m\u001b[0;34m:\u001b[0m\u001b[0;34m\u001b[0m\u001b[0;34m\u001b[0m\u001b[0m\n",
            "\u001b[0;32m/usr/local/lib/python3.11/dist-packages/scipy/sparse/_base.py\u001b[0m in \u001b[0;36m_matmul_dispatch\u001b[0;34m(self, other)\u001b[0m\n\u001b[1;32m    604\u001b[0m             \u001b[0;32mif\u001b[0m \u001b[0mother\u001b[0m\u001b[0;34m.\u001b[0m\u001b[0mndim\u001b[0m \u001b[0;34m==\u001b[0m \u001b[0;36m1\u001b[0m\u001b[0;34m:\u001b[0m\u001b[0;34m\u001b[0m\u001b[0;34m\u001b[0m\u001b[0m\n\u001b[1;32m    605\u001b[0m                 \u001b[0;32mraise\u001b[0m \u001b[0mValueError\u001b[0m\u001b[0;34m(\u001b[0m\u001b[0;34m'Cannot yet multiply a 1d sparse array'\u001b[0m\u001b[0;34m)\u001b[0m\u001b[0;34m\u001b[0m\u001b[0;34m\u001b[0m\u001b[0m\n\u001b[0;32m--> 606\u001b[0;31m             \u001b[0;32mreturn\u001b[0m \u001b[0mself\u001b[0m\u001b[0;34m.\u001b[0m\u001b[0m_matmul_sparse\u001b[0m\u001b[0;34m(\u001b[0m\u001b[0mother\u001b[0m\u001b[0;34m)\u001b[0m\u001b[0;34m\u001b[0m\u001b[0;34m\u001b[0m\u001b[0m\n\u001b[0m\u001b[1;32m    607\u001b[0m \u001b[0;34m\u001b[0m\u001b[0m\n\u001b[1;32m    608\u001b[0m         \u001b[0;31m# If it's a list or whatever, treat it like an array\u001b[0m\u001b[0;34m\u001b[0m\u001b[0;34m\u001b[0m\u001b[0m\n",
            "\u001b[0;32m/usr/local/lib/python3.11/dist-packages/scipy/sparse/_compressed.py\u001b[0m in \u001b[0;36m_matmul_sparse\u001b[0;34m(self, other)\u001b[0m\n\u001b[1;32m    518\u001b[0m \u001b[0;34m\u001b[0m\u001b[0m\n\u001b[1;32m    519\u001b[0m         \u001b[0mfn\u001b[0m \u001b[0;34m=\u001b[0m \u001b[0mgetattr\u001b[0m\u001b[0;34m(\u001b[0m\u001b[0m_sparsetools\u001b[0m\u001b[0;34m,\u001b[0m \u001b[0mself\u001b[0m\u001b[0;34m.\u001b[0m\u001b[0mformat\u001b[0m \u001b[0;34m+\u001b[0m \u001b[0;34m'_matmat_maxnnz'\u001b[0m\u001b[0;34m)\u001b[0m\u001b[0;34m\u001b[0m\u001b[0;34m\u001b[0m\u001b[0m\n\u001b[0;32m--> 520\u001b[0;31m         nnz = fn(M, N,\n\u001b[0m\u001b[1;32m    521\u001b[0m                  \u001b[0mnp\u001b[0m\u001b[0;34m.\u001b[0m\u001b[0masarray\u001b[0m\u001b[0;34m(\u001b[0m\u001b[0mself\u001b[0m\u001b[0;34m.\u001b[0m\u001b[0mindptr\u001b[0m\u001b[0;34m,\u001b[0m \u001b[0mdtype\u001b[0m\u001b[0;34m=\u001b[0m\u001b[0midx_dtype\u001b[0m\u001b[0;34m)\u001b[0m\u001b[0;34m,\u001b[0m\u001b[0;34m\u001b[0m\u001b[0;34m\u001b[0m\u001b[0m\n\u001b[1;32m    522\u001b[0m                  \u001b[0mnp\u001b[0m\u001b[0;34m.\u001b[0m\u001b[0masarray\u001b[0m\u001b[0;34m(\u001b[0m\u001b[0mself\u001b[0m\u001b[0;34m.\u001b[0m\u001b[0mindices\u001b[0m\u001b[0;34m,\u001b[0m \u001b[0mdtype\u001b[0m\u001b[0;34m=\u001b[0m\u001b[0midx_dtype\u001b[0m\u001b[0;34m)\u001b[0m\u001b[0;34m,\u001b[0m\u001b[0;34m\u001b[0m\u001b[0;34m\u001b[0m\u001b[0m\n",
            "\u001b[0;31mKeyboardInterrupt\u001b[0m: "
          ]
        }
      ]
    },
    {
      "cell_type": "code",
      "source": [
        "# I was getting a session crashed error message due to excessive RAM usage\n",
        "# which sould be due to the cosine similarity calculation.\n",
        "# cosine_sim = cosine_similarity(tfidf_matrix, tfidf_matrix)\n",
        "# Since we have 1,682 movies (items) in our dataset. It is creating a matrix of\n",
        "#  1,682 × 1,682 which is, resulting in 2,829,124 similarity values which could be the reason\n",
        "# for memory overload and resulting crash."
      ],
      "metadata": {
        "id": "hm245qglo5Y6"
      },
      "execution_count": null,
      "outputs": []
    },
    {
      "cell_type": "code",
      "source": [
        "# To get rid of the error caused by the code above, instead of calculation cosine similarity\n",
        "# for all movies at once, we use special storage format which is called sparse matrix to save on memory.\n",
        "# Compare only one movie at a time to others.\n",
        "\n",
        "def content_based_recommendation(user_id, merged_df):\n",
        "    # Get the user's rated movies\n",
        "    user_ratings = merged_df[merged_df['user_id'] == user_id]\n",
        "    rated_movie_ids = user_ratings['movie_id'].tolist()\n",
        "    # Create a TF-IDF matrix using movie genres\n",
        "    genre_columns = [\n",
        "        \"genre_unknown\", \"Action\", \"Adventure\", \"Animation\", \"Children\", \"Comedy\",\n",
        "        \"Crime\", \"Documentary\", \"Drama\", \"Fantasy\", \"Film-Noir\", \"Horror\",\n",
        "        \"Musical\", \"Mystery\", \"Romance\", \"Sci-Fi\", \"Thriller\", \"War\", \"Western\"\n",
        "    ]\n",
        "    # Combine genres into a single string\n",
        "    merged_df['genres'] = merged_df[genre_columns].apply(lambda row: ' '.join(\n",
        "        [genre for genre, val in row.items() if val == 1]), axis=1)\n",
        "\n",
        "    # use sparse matrix for efficiency\n",
        "    tfidf_vectorizer = TfidfVectorizer(stop_words='english')\n",
        "    tfidf_matrix = tfidf_vectorizer.fit_transform(merged_df['genres'])\n",
        "\n",
        "    # Compute cosine similarity only for rated movies using sparse matrix format\n",
        "    recommendations = {}\n",
        "\n",
        "    for movie_id in rated_movie_ids:\n",
        "        movie_index = merged_df[merged_df['movie_id'] == movie_id].index[0]\n",
        "\n",
        "        # Compute similarity only for the current movie\n",
        "        movie_similarities = cosine_similarity(tfidf_matrix[movie_index], tfidf_matrix).flatten()\n",
        "\n",
        "        # Get top 5 similar movies, do not include the movie itself\n",
        "        similar_movies = np.argsort(movie_similarities)[::-1][1:6]\n",
        "\n",
        "        for idx in similar_movies:\n",
        "            movie_title = merged_df.iloc[idx]['title']\n",
        "            score = movie_similarities[idx]\n",
        "            if movie_title not in recommendations:\n",
        "                recommendations[movie_title] = score\n",
        "\n",
        "    # Remove duplicates and movies already rated by the user\n",
        "    recommended_movies = [(movie, score) for movie, score in recommendations.items()\n",
        "                          if movie not in user_ratings['title'].values]\n",
        "\n",
        "    # Sort recommendations by score\n",
        "    recommended_movies = sorted(recommended_movies, key=lambda x: x[1], reverse=True)\n",
        "\n",
        "    return recommended_movies[:5]\n",
        "\n",
        "# Example\n",
        "user_id = 22\n",
        "recommended_movies = content_based_recommendation(user_id, merged_df)\n",
        "\n",
        "print(\"Top 5 content-based movie recommendations:\")\n",
        "for movie, score in recommended_movies:\n",
        "    print(f\"{movie} - Similarity Score: {score}\")\n"
      ],
      "metadata": {
        "colab": {
          "base_uri": "https://localhost:8080/"
        },
        "id": "5Dtqvc9Briao",
        "outputId": "c1b9b1d0-9204-4df1-c7ad-c3add1d541cc"
      },
      "execution_count": 11,
      "outputs": [
        {
          "output_type": "stream",
          "name": "stdout",
          "text": [
            "Top 5 content-based movie recommendations:\n",
            "George of the Jungle (1997) - Similarity Score: 1.0000000000000002\n",
            "Mouse Hunt (1997) - Similarity Score: 1.0000000000000002\n",
            "Santa Clause, The (1994) - Similarity Score: 1.0000000000000002\n",
            "Mediterraneo (1991) - Similarity Score: 1.0000000000000002\n",
            "Adventures of Robin Hood, The (1938) - Similarity Score: 1.0000000000000002\n"
          ]
        }
      ]
    },
    {
      "cell_type": "markdown",
      "source": [
        "The key idea behind collaborative filtering is that users who have agreed in the past will likely agree in the future. Instead of relying on item attributes or user profiles, collaborative filtering identifies patterns of user behavior and item preferences from the interactions present in the data.\n",
        "\n",
        "**Types of Collaborative Filtering:**\n",
        "There are two main types of collaborative filtering:\n",
        "\n",
        "**Collaborative Filtering Process:**\n",
        "The collaborative filtering process typically involves the following steps:\n",
        "\n",
        "1. **Data Collection:**\n",
        "   - Gather data on user-item interactions, such as movie ratings, product purchases, or article clicks.\n",
        "\n",
        "2. **User-Item Matrix:**\n",
        "   - Organize the data into a user-item matrix, where rows represent users, columns represent items, and the entries contain the users' interactions (e.g., ratings).\n",
        "\n",
        "3. **Similarity Calculation:**\n",
        "   - Calculate the similarity between users or items using similarity metrics such as cosine similarity, Pearson correlation, or Jaccard similarity.\n",
        "   - For user-based collaborative filtering, user similarities are calculated, and for item-based collaborative filtering, item similarities are calculated.\n",
        "\n",
        "4. **Neighborhood Selection:**\n",
        "   - For each user or item, select the most similar users or items as the neighborhood.\n",
        "   - The size of the neighborhood (the number of similar users or items to consider) is an important parameter to control the system's behavior.\n",
        "\n",
        "5. **Prediction Generation:**\n",
        "   - Predict the ratings for items that the target user has not yet interacted with by combining the ratings of neighboring users or items.\n",
        "\n",
        "6. **Recommendation Generation:**\n",
        "   - Recommend items with the highest predicted ratings to the target user.\n",
        "\n",
        "**Advantages of Collaborative Filtering using User-Item Interactions:**\n",
        "- Collaborative filtering is based solely on user interactions and does not require knowledge of item attributes, making it useful for cases where item data is sparse or unavailable.\n",
        "- It can provide serendipitous recommendations, suggesting items that users may not have discovered on their own.\n",
        "- Collaborative filtering can be applied in various domains, including e-commerce, music, movie, and content recommendations.\n",
        "\n",
        "**Limitations of Collaborative Filtering:**\n",
        "- The cold-start problem: Collaborative filtering struggles to recommend to new users or items with no or limited interaction history.\n",
        "- It may suffer from sparsity when data is limited or when users have only interacted with a small subset of items.\n",
        "- Scalability issues can arise with large datasets and an increasing number of users or items."
      ],
      "metadata": {
        "id": "2NNt3gHLYDxU"
      }
    },
    {
      "cell_type": "markdown",
      "source": [
        "Here is your task:\n",
        "\n",
        "1. Write a function that takes in a user id and the dataframe you created before that contains 'user_id', 'title', and 'rating'. The function should return collaborative filtering recommendations for this user based on a user-item interaction matrix. Here are steps you can take:\n",
        "\n",
        "  A. Create the user-item matrix using Pandas' [pivot_table](https://pandas.pydata.org/docs/reference/api/pandas.pivot_table.html).\n",
        "\n",
        "  B. Fill missing values with zeros in this matrix.\n",
        "\n",
        "  C. Calculate user-user similarity matrix using cosine similarity.\n",
        "\n",
        "  D. Get the array of similarity scores of the target user with all other users from the similarity matrix.\n",
        "\n",
        "  E. Extract, say the the top 5 most similar users (excluding the target user).\n",
        "\n",
        "  F. Generate movie recommendations based on the most similar users.\n",
        "\n",
        "  G. Remove duplicate movies recommendations."
      ],
      "metadata": {
        "id": "ks4mWyCaYVNY"
      }
    },
    {
      "cell_type": "code",
      "source": [
        "# Collaborative Filtering using User-Item Interactions\n",
        "def collaborative_filtering_recommendation(user_id, df):\n",
        "    # Create the user-item matrix\n",
        "    user_item_matrix = df.pivot_table(index='user_id', columns='title', values='rating')\n",
        "\n",
        "    # Fill missing values with 0 (indicating no rating)\n",
        "    user_item_matrix = user_item_matrix.fillna(0)\n",
        "\n",
        "    # Calculate user-user similarity matrix using cosine similarity\n",
        "    user_similarity = cosine_similarity(user_item_matrix)\n",
        "    user_similarity_df = pd.DataFrame(user_similarity, index=user_item_matrix.index, columns=user_item_matrix.index)\n",
        "\n",
        "    # Get the similarity scores of the target user with all other users\n",
        "    similarity_scores = user_similarity_df[user_id]\n",
        "\n",
        "    # Find the top 5 most similar users (not including the target user)\n",
        "    top_similar_users = similarity_scores.drop(user_id).nlargest(5).index\n",
        "\n",
        "    # Generate movie recommendations based on the most similar users\n",
        "    recommended_movies = set()\n",
        "    for similar_user in top_similar_users:\n",
        "        similar_user_rated_movies = df[df['user_id'] == similar_user]['title'].tolist()\n",
        "        recommended_movies.update(similar_user_rated_movies)\n",
        "\n",
        "    # Remove duplicates from recommendations\n",
        "    user_rated_movies = df[df['user_id'] == user_id]['title'].tolist()\n",
        "    final_recommendations = [movie for movie in recommended_movies if movie not in user_rated_movies]\n",
        "\n",
        "    # Return top 5 recommendations\n",
        "    return final_recommendations[:5]\n",
        "\n",
        "# Example usage\n",
        "user_id = 22\n",
        "recommended_movies = collaborative_filtering_recommendation(user_id, merged_df)\n",
        "\n",
        "print(\"Top 5 collaborative filtering movie recommendations:\")\n",
        "for movie in recommended_movies:\n",
        "    print(movie)"
      ],
      "metadata": {
        "colab": {
          "base_uri": "https://localhost:8080/"
        },
        "id": "Bf--tUUImxVO",
        "outputId": "e56dddf1-3f53-48d0-ea35-f97dfa29de91"
      },
      "execution_count": 13,
      "outputs": [
        {
          "output_type": "stream",
          "name": "stdout",
          "text": [
            "Top 5 collaborative filtering movie recommendations:\n",
            "Kingpin (1996)\n",
            "Good Will Hunting (1997)\n",
            "Rosencrantz and Guildenstern Are Dead (1990)\n",
            "Apocalypse Now (1979)\n",
            "Judge Dredd (1995)\n"
          ]
        }
      ]
    },
    {
      "cell_type": "markdown",
      "source": [
        "Now, test your recommendations engines! Select a few user ids and generate recommendations using both functions you've written. Are the recommendations similar? Do the recommendations make sense?"
      ],
      "metadata": {
        "id": "-Jj883VAZRNe"
      }
    },
    {
      "cell_type": "code",
      "source": [
        "# Test the recommendation engines\n",
        "\n",
        "# User_ids to test\n",
        "user_ids_to_test = [682, 315, 47, 788, 238, 322, 537, 319]\n",
        "\n",
        "# Test both recommendation functions for each user\n",
        "for user_id in user_ids_to_test:\n",
        "    print(f\"\\nUser ID: {user_id}\")\n",
        "\n",
        "    # Content-based recommendations\n",
        "    content_recommendations = content_based_recommendation(user_id, merged_df)\n",
        "    print(\"\\nContent-Based Recommendations:\")\n",
        "    for movie, score in content_recommendations:\n",
        "        print(f\"{movie} - Score: {score}\")\n",
        "\n",
        "    # Collaborative filtering recommendations\n",
        "    collaborative_recommendations = collaborative_filtering_recommendation(user_id, merged_df)\n",
        "    print(\"\\nCollaborative Filtering Recommendations:\")\n",
        "    for movie in collaborative_recommendations:\n",
        "        print(f\"{movie}\")"
      ],
      "metadata": {
        "id": "kt9nuOTNJXz8",
        "colab": {
          "base_uri": "https://localhost:8080/"
        },
        "outputId": "c527862a-7661-41a6-96d1-4b0475341121"
      },
      "execution_count": 15,
      "outputs": [
        {
          "output_type": "stream",
          "name": "stdout",
          "text": [
            "\n",
            "User ID: 682\n",
            "\n",
            "Content-Based Recommendations:\n",
            "Mouse Hunt (1997) - Score: 1.0000000000000002\n",
            "Santa Clause, The (1994) - Score: 1.0000000000000002\n",
            "Diabolique (1996) - Score: 1.0000000000000002\n",
            "Dolores Claiborne (1994) - Score: 1.0000000000000002\n",
            "Adventures of Robin Hood, The (1938) - Score: 1.0000000000000002\n",
            "\n",
            "Collaborative Filtering Recommendations:\n",
            "Tin Men (1987)\n",
            "Microcosmos: Le peuple de l'herbe (1996)\n",
            "Deer Hunter, The (1978)\n",
            "Rosencrantz and Guildenstern Are Dead (1990)\n",
            "Judge Dredd (1995)\n",
            "\n",
            "User ID: 315\n",
            "\n",
            "Content-Based Recommendations:\n",
            "Hackers (1995) - Score: 1.0000000000000002\n",
            "Indiana Jones and the Last Crusade (1989) - Score: 1.0000000000000002\n",
            "Adventures of Robin Hood, The (1938) - Score: 1.0000000000000002\n",
            "Raiders of the Lost Ark (1981) - Score: 1.0000000000000002\n",
            "Conan the Barbarian (1981) - Score: 1.0000000000000002\n",
            "\n",
            "Collaborative Filtering Recommendations:\n",
            "Tin Men (1987)\n",
            "Kingpin (1996)\n",
            "Good Will Hunting (1997)\n",
            "Deer Hunter, The (1978)\n",
            "Rosencrantz and Guildenstern Are Dead (1990)\n",
            "\n",
            "User ID: 47\n",
            "\n",
            "Content-Based Recommendations:\n",
            "Casper (1995) - Score: 1.0000000000000002\n",
            "Homeward Bound II: Lost in San Francisco (1996) - Score: 1.0000000000000002\n",
            "Homeward Bound: The Incredible Journey (1993) - Score: 1.0000000000000002\n",
            "Tom and Huck (1995) - Score: 1.0000000000000002\n",
            "Thin Man, The (1934) - Score: 1.0\n",
            "\n",
            "Collaborative Filtering Recommendations:\n",
            "Peacemaker, The (1997)\n",
            "Game, The (1997)\n",
            "Good Will Hunting (1997)\n",
            "Starship Troopers (1997)\n",
            "Desperate Measures (1998)\n",
            "\n",
            "User ID: 788\n",
            "\n",
            "Content-Based Recommendations:\n",
            "Desperado (1995) - Score: 1.0000000000000002\n",
            "Diabolique (1996) - Score: 1.0000000000000002\n",
            "Another Stakeout (1993) - Score: 1.0000000000000002\n",
            "Reservoir Dogs (1992) - Score: 1.0000000000000002\n",
            "Alice in Wonderland (1951) - Score: 1.0000000000000002\n",
            "\n",
            "Collaborative Filtering Recommendations:\n",
            "Microcosmos: Le peuple de l'herbe (1996)\n",
            "Kingpin (1996)\n",
            "Good Will Hunting (1997)\n",
            "Rosencrantz and Guildenstern Are Dead (1990)\n",
            "Alice in Wonderland (1951)\n",
            "\n",
            "User ID: 238\n",
            "\n",
            "Content-Based Recommendations:\n",
            "Alice in Wonderland (1951) - Score: 1.0000000000000002\n",
            "James and the Giant Peach (1996) - Score: 1.0000000000000002\n",
            "Beauty and the Beast (1991) - Score: 1.0000000000000002\n",
            "Lion King, The (1994) - Score: 1.0000000000000002\n",
            "Snow White and the Seven Dwarfs (1937) - Score: 1.0000000000000002\n",
            "\n",
            "Collaborative Filtering Recommendations:\n",
            "Peacemaker, The (1997)\n",
            "Kingpin (1996)\n",
            "Game, The (1997)\n",
            "Vegas Vacation (1997)\n",
            "Executive Decision (1996)\n",
            "\n",
            "User ID: 322\n",
            "\n",
            "Content-Based Recommendations:\n",
            "Forbidden Planet (1956) - Score: 1.0000000000000002\n",
            "Species (1995) - Score: 1.0000000000000002\n",
            "Brazil (1985) - Score: 1.0000000000000002\n",
            "Saint, The (1997) - Score: 1.0000000000000002\n",
            "Speed (1994) - Score: 1.0000000000000002\n",
            "\n",
            "Collaborative Filtering Recommendations:\n",
            "Tin Men (1987)\n",
            "Kingpin (1996)\n",
            "Apocalypse Now (1979)\n",
            "I Shot Andy Warhol (1996)\n",
            "Willy Wonka and the Chocolate Factory (1971)\n",
            "\n",
            "User ID: 537\n",
            "\n",
            "Content-Based Recommendations:\n",
            "Outbreak (1995) - Score: 1.0000000000000002\n",
            "Smilla's Sense of Snow (1997) - Score: 1.0000000000000002\n",
            "Donnie Brasco (1997) - Score: 1.0000000000000002\n",
            "Alice in Wonderland (1951) - Score: 1.0000000000000002\n",
            "James and the Giant Peach (1996) - Score: 1.0000000000000002\n",
            "\n",
            "Collaborative Filtering Recommendations:\n",
            "Microcosmos: Le peuple de l'herbe (1996)\n",
            "Kingpin (1996)\n",
            "Tin Men (1987)\n",
            "Phenomenon (1996)\n",
            "Jean de Florette (1986)\n",
            "\n",
            "User ID: 319\n",
            "\n",
            "Content-Based Recommendations:\n",
            "Home Alone (1990) - Score: 1.0000000000000002\n",
            "Mouse Hunt (1997) - Score: 1.0000000000000002\n",
            "Santa Clause, The (1994) - Score: 1.0000000000000002\n",
            "Saint, The (1997) - Score: 1.0000000000000002\n",
            "Speed (1994) - Score: 1.0000000000000002\n",
            "\n",
            "Collaborative Filtering Recommendations:\n",
            "Mortal Kombat: Annihilation (1997)\n",
            "U Turn (1997)\n",
            "Good Will Hunting (1997)\n",
            "Midnight in the Garden of Good and Evil (1997)\n",
            "How to Be a Player (1997)\n"
          ]
        }
      ]
    },
    {
      "cell_type": "code",
      "source": [
        "# If a user has like a movie before, content-based recommendations will suggest movies that are\n",
        "# similar in that genre, they will get recommendatiions on similar types of films.\n",
        "# collaborative filtering will look at what other users with similar likes/dislikes have recommended\n",
        "# it will recommend movies that might not match the user's genre choices from previous movie likes\n",
        "# but the movies that are popular with other people who have liked movies.\n",
        "# The two methods provide different suggestions,\n",
        "# with content-based recommendations focusing on movie genres and collaborative filtering\n",
        "# focusing on what other users liked. Both methods are useful\n",
        "# and they offer different ways to find new movies.\n",
        "# Content-based recommendations help discover movies that the user is likely to enjoy based on\n",
        "# their favorite genres while collaborative filtering will suggest movies liked by others\n",
        "# people with similar tastes even if they’re outside the user's past preferences."
      ],
      "metadata": {
        "id": "MlKmZ5Yqw_xS"
      },
      "execution_count": null,
      "outputs": []
    }
  ]
}